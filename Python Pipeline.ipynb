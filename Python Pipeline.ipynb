{
 "cells": [
  {
   "cell_type": "code",
   "execution_count": 1,
   "metadata": {},
   "outputs": [],
   "source": [
    "import warnings\n",
    "\n",
    "import pandas as pd \n",
    "import numpy as np\n",
    "\n",
    "from sklearn.pipeline import Pipeline,FeatureUnion\n",
    "from sklearn.base import BaseEstimator, TransformerMixin\n",
    "\n",
    "from mypipes import *"
   ]
  },
  {
   "cell_type": "code",
   "execution_count": 2,
   "metadata": {},
   "outputs": [],
   "source": [
    "warnings.filterwarnings('ignore')"
   ]
  },
  {
   "cell_type": "code",
   "execution_count": 4,
   "metadata": {},
   "outputs": [],
   "source": [
    "ld_train=pd.read_csv('C:\\\\Users\\\\Larry Williams\\\\Desktop\\\\Mamata\\\\Edvancer\\\\data\\\\data\\\\loan_data_train.csv')\n",
    "ld_test=pd.read_csv('C:\\\\Users\\\\Larry Williams\\\\Desktop\\\\Mamata\\\\Edvancer\\\\data\\\\data\\\\loan_data_test.csv')"
   ]
  },
  {
   "cell_type": "code",
   "execution_count": 5,
   "metadata": {},
   "outputs": [
    {
     "name": "stdout",
     "output_type": "stream",
     "text": [
      "<class 'pandas.core.frame.DataFrame'>\n",
      "RangeIndex: 2200 entries, 0 to 2199\n",
      "Data columns (total 15 columns):\n",
      " #   Column                          Non-Null Count  Dtype  \n",
      "---  ------                          --------------  -----  \n",
      " 0   ID                              2199 non-null   float64\n",
      " 1   Amount.Requested                2199 non-null   object \n",
      " 2   Amount.Funded.By.Investors      2199 non-null   object \n",
      " 3   Interest.Rate                   2200 non-null   object \n",
      " 4   Loan.Length                     2199 non-null   object \n",
      " 5   Loan.Purpose                    2199 non-null   object \n",
      " 6   Debt.To.Income.Ratio            2199 non-null   object \n",
      " 7   State                           2199 non-null   object \n",
      " 8   Home.Ownership                  2199 non-null   object \n",
      " 9   Monthly.Income                  2197 non-null   float64\n",
      " 10  FICO.Range                      2200 non-null   object \n",
      " 11  Open.CREDIT.Lines               2196 non-null   object \n",
      " 12  Revolving.CREDIT.Balance        2197 non-null   object \n",
      " 13  Inquiries.in.the.Last.6.Months  2197 non-null   float64\n",
      " 14  Employment.Length               2131 non-null   object \n",
      "dtypes: float64(3), object(12)\n",
      "memory usage: 257.9+ KB\n"
     ]
    }
   ],
   "source": [
    "ld_train.info()"
   ]
  },
  {
   "cell_type": "code",
   "execution_count": 6,
   "metadata": {},
   "outputs": [
    {
     "data": {
      "text/html": [
       "<div>\n",
       "<style scoped>\n",
       "    .dataframe tbody tr th:only-of-type {\n",
       "        vertical-align: middle;\n",
       "    }\n",
       "\n",
       "    .dataframe tbody tr th {\n",
       "        vertical-align: top;\n",
       "    }\n",
       "\n",
       "    .dataframe thead th {\n",
       "        text-align: right;\n",
       "    }\n",
       "</style>\n",
       "<table border=\"1\" class=\"dataframe\">\n",
       "  <thead>\n",
       "    <tr style=\"text-align: right;\">\n",
       "      <th></th>\n",
       "      <th>ID</th>\n",
       "      <th>Amount.Requested</th>\n",
       "      <th>Amount.Funded.By.Investors</th>\n",
       "      <th>Interest.Rate</th>\n",
       "      <th>Loan.Length</th>\n",
       "      <th>Loan.Purpose</th>\n",
       "      <th>Debt.To.Income.Ratio</th>\n",
       "      <th>State</th>\n",
       "      <th>Home.Ownership</th>\n",
       "      <th>Monthly.Income</th>\n",
       "      <th>FICO.Range</th>\n",
       "      <th>Open.CREDIT.Lines</th>\n",
       "      <th>Revolving.CREDIT.Balance</th>\n",
       "      <th>Inquiries.in.the.Last.6.Months</th>\n",
       "      <th>Employment.Length</th>\n",
       "    </tr>\n",
       "  </thead>\n",
       "  <tbody>\n",
       "    <tr>\n",
       "      <th>1329</th>\n",
       "      <td>62778.0</td>\n",
       "      <td>4800</td>\n",
       "      <td>4775</td>\n",
       "      <td>7.90%</td>\n",
       "      <td>36 months</td>\n",
       "      <td>debt_consolidation</td>\n",
       "      <td>13.74%</td>\n",
       "      <td>CA</td>\n",
       "      <td>RENT</td>\n",
       "      <td>6333.33</td>\n",
       "      <td>720-724</td>\n",
       "      <td>6</td>\n",
       "      <td>1782</td>\n",
       "      <td>0.0</td>\n",
       "      <td>1 year</td>\n",
       "    </tr>\n",
       "    <tr>\n",
       "      <th>1680</th>\n",
       "      <td>97487.0</td>\n",
       "      <td>12825</td>\n",
       "      <td>12825</td>\n",
       "      <td>17.77%</td>\n",
       "      <td>36 months</td>\n",
       "      <td>debt_consolidation</td>\n",
       "      <td>24.41%</td>\n",
       "      <td>CA</td>\n",
       "      <td>MORTGAGE</td>\n",
       "      <td>3416.67</td>\n",
       "      <td>670-674</td>\n",
       "      <td>15</td>\n",
       "      <td>8539</td>\n",
       "      <td>1.0</td>\n",
       "      <td>10+ years</td>\n",
       "    </tr>\n",
       "    <tr>\n",
       "      <th>1542</th>\n",
       "      <td>66425.0</td>\n",
       "      <td>16000</td>\n",
       "      <td>16000</td>\n",
       "      <td>21.49%</td>\n",
       "      <td>60 months</td>\n",
       "      <td>small_business</td>\n",
       "      <td>25.76%</td>\n",
       "      <td>NY</td>\n",
       "      <td>MORTGAGE</td>\n",
       "      <td>5000.00</td>\n",
       "      <td>670-674</td>\n",
       "      <td>14</td>\n",
       "      <td>10881</td>\n",
       "      <td>0.0</td>\n",
       "      <td>5 years</td>\n",
       "    </tr>\n",
       "    <tr>\n",
       "      <th>419</th>\n",
       "      <td>65335.0</td>\n",
       "      <td>16000</td>\n",
       "      <td>16000</td>\n",
       "      <td>14.09%</td>\n",
       "      <td>60 months</td>\n",
       "      <td>small_business</td>\n",
       "      <td>7.78%</td>\n",
       "      <td>PA</td>\n",
       "      <td>RENT</td>\n",
       "      <td>4166.67</td>\n",
       "      <td>735-739</td>\n",
       "      <td>6</td>\n",
       "      <td>4240</td>\n",
       "      <td>3.0</td>\n",
       "      <td>2 years</td>\n",
       "    </tr>\n",
       "    <tr>\n",
       "      <th>297</th>\n",
       "      <td>20785.0</td>\n",
       "      <td>20000</td>\n",
       "      <td>20000</td>\n",
       "      <td>14.91%</td>\n",
       "      <td>36 months</td>\n",
       "      <td>debt_consolidation</td>\n",
       "      <td>19.43%</td>\n",
       "      <td>VA</td>\n",
       "      <td>MORTGAGE</td>\n",
       "      <td>6250.00</td>\n",
       "      <td>715-719</td>\n",
       "      <td>12</td>\n",
       "      <td>14308</td>\n",
       "      <td>1.0</td>\n",
       "      <td>5 years</td>\n",
       "    </tr>\n",
       "    <tr>\n",
       "      <th>1822</th>\n",
       "      <td>30210.0</td>\n",
       "      <td>3800</td>\n",
       "      <td>3800</td>\n",
       "      <td>6.99%</td>\n",
       "      <td>36 months</td>\n",
       "      <td>credit_card</td>\n",
       "      <td>3.18%</td>\n",
       "      <td>NY</td>\n",
       "      <td>RENT</td>\n",
       "      <td>3583.33</td>\n",
       "      <td>740-744</td>\n",
       "      <td>9</td>\n",
       "      <td>3766</td>\n",
       "      <td>0.0</td>\n",
       "      <td>4 years</td>\n",
       "    </tr>\n",
       "    <tr>\n",
       "      <th>108</th>\n",
       "      <td>27095.0</td>\n",
       "      <td>7500</td>\n",
       "      <td>7500</td>\n",
       "      <td>5.42%</td>\n",
       "      <td>36 months</td>\n",
       "      <td>home_improvement</td>\n",
       "      <td>22.26%</td>\n",
       "      <td>OH</td>\n",
       "      <td>MORTGAGE</td>\n",
       "      <td>2583.33</td>\n",
       "      <td>785-789</td>\n",
       "      <td>11</td>\n",
       "      <td>2160</td>\n",
       "      <td>0.0</td>\n",
       "      <td>10+ years</td>\n",
       "    </tr>\n",
       "    <tr>\n",
       "      <th>937</th>\n",
       "      <td>81508.0</td>\n",
       "      <td>7500</td>\n",
       "      <td>7500</td>\n",
       "      <td>12.12%</td>\n",
       "      <td>36 months</td>\n",
       "      <td>home_improvement</td>\n",
       "      <td>26.56%</td>\n",
       "      <td>NH</td>\n",
       "      <td>MORTGAGE</td>\n",
       "      <td>5000.00</td>\n",
       "      <td>710-714</td>\n",
       "      <td>8</td>\n",
       "      <td>9047</td>\n",
       "      <td>1.0</td>\n",
       "      <td>10+ years</td>\n",
       "    </tr>\n",
       "    <tr>\n",
       "      <th>335</th>\n",
       "      <td>72346.0</td>\n",
       "      <td>3625</td>\n",
       "      <td>3625</td>\n",
       "      <td>14.09%</td>\n",
       "      <td>36 months</td>\n",
       "      <td>debt_consolidation</td>\n",
       "      <td>11.32%</td>\n",
       "      <td>FL</td>\n",
       "      <td>MORTGAGE</td>\n",
       "      <td>3895.00</td>\n",
       "      <td>665-669</td>\n",
       "      <td>9</td>\n",
       "      <td>12251</td>\n",
       "      <td>0.0</td>\n",
       "      <td>10+ years</td>\n",
       "    </tr>\n",
       "    <tr>\n",
       "      <th>996</th>\n",
       "      <td>67158.0</td>\n",
       "      <td>10000</td>\n",
       "      <td>10000</td>\n",
       "      <td>14.09%</td>\n",
       "      <td>36 months</td>\n",
       "      <td>debt_consolidation</td>\n",
       "      <td>21.45%</td>\n",
       "      <td>CO</td>\n",
       "      <td>RENT</td>\n",
       "      <td>4583.33</td>\n",
       "      <td>675-679</td>\n",
       "      <td>11</td>\n",
       "      <td>8548</td>\n",
       "      <td>0.0</td>\n",
       "      <td>6 years</td>\n",
       "    </tr>\n",
       "  </tbody>\n",
       "</table>\n",
       "</div>"
      ],
      "text/plain": [
       "           ID Amount.Requested Amount.Funded.By.Investors Interest.Rate  \\\n",
       "1329  62778.0             4800                       4775         7.90%   \n",
       "1680  97487.0            12825                      12825        17.77%   \n",
       "1542  66425.0            16000                      16000        21.49%   \n",
       "419   65335.0            16000                      16000        14.09%   \n",
       "297   20785.0            20000                      20000        14.91%   \n",
       "1822  30210.0             3800                       3800         6.99%   \n",
       "108   27095.0             7500                       7500         5.42%   \n",
       "937   81508.0             7500                       7500        12.12%   \n",
       "335   72346.0             3625                       3625        14.09%   \n",
       "996   67158.0            10000                      10000        14.09%   \n",
       "\n",
       "     Loan.Length        Loan.Purpose Debt.To.Income.Ratio State  \\\n",
       "1329   36 months  debt_consolidation               13.74%    CA   \n",
       "1680   36 months  debt_consolidation               24.41%    CA   \n",
       "1542   60 months      small_business               25.76%    NY   \n",
       "419    60 months      small_business                7.78%    PA   \n",
       "297    36 months  debt_consolidation               19.43%    VA   \n",
       "1822   36 months         credit_card                3.18%    NY   \n",
       "108    36 months    home_improvement               22.26%    OH   \n",
       "937    36 months    home_improvement               26.56%    NH   \n",
       "335    36 months  debt_consolidation               11.32%    FL   \n",
       "996    36 months  debt_consolidation               21.45%    CO   \n",
       "\n",
       "     Home.Ownership  Monthly.Income FICO.Range Open.CREDIT.Lines  \\\n",
       "1329           RENT         6333.33    720-724                 6   \n",
       "1680       MORTGAGE         3416.67    670-674                15   \n",
       "1542       MORTGAGE         5000.00    670-674                14   \n",
       "419            RENT         4166.67    735-739                 6   \n",
       "297        MORTGAGE         6250.00    715-719                12   \n",
       "1822           RENT         3583.33    740-744                 9   \n",
       "108        MORTGAGE         2583.33    785-789                11   \n",
       "937        MORTGAGE         5000.00    710-714                 8   \n",
       "335        MORTGAGE         3895.00    665-669                 9   \n",
       "996            RENT         4583.33    675-679                11   \n",
       "\n",
       "     Revolving.CREDIT.Balance  Inquiries.in.the.Last.6.Months  \\\n",
       "1329                     1782                             0.0   \n",
       "1680                     8539                             1.0   \n",
       "1542                    10881                             0.0   \n",
       "419                      4240                             3.0   \n",
       "297                     14308                             1.0   \n",
       "1822                     3766                             0.0   \n",
       "108                      2160                             0.0   \n",
       "937                      9047                             1.0   \n",
       "335                     12251                             0.0   \n",
       "996                      8548                             0.0   \n",
       "\n",
       "     Employment.Length  \n",
       "1329            1 year  \n",
       "1680         10+ years  \n",
       "1542           5 years  \n",
       "419            2 years  \n",
       "297            5 years  \n",
       "1822           4 years  \n",
       "108          10+ years  \n",
       "937          10+ years  \n",
       "335          10+ years  \n",
       "996            6 years  "
      ]
     },
     "execution_count": 6,
     "metadata": {},
     "output_type": "execute_result"
    }
   ],
   "source": [
    "ld_train.sample(10)"
   ]
  },
  {
   "cell_type": "code",
   "execution_count": 7,
   "metadata": {},
   "outputs": [],
   "source": [
    "\n",
    "\n",
    "# dont need : ID , Intereste.Rate\n",
    "\n",
    "# Amount requested : V1\n",
    "# Amount.Funded.By.Investors : V2 \n",
    "# Open.CREDIT.Lines : V3\n",
    "# Revolving.CREDIT.Balance : V4\n",
    "\n",
    "# convert it to numeric , and then impute missing values with median\n",
    "\n",
    "# Debt.To.Income.Ratio : V5\n",
    "\n",
    "# remove percentage sign , covert to numeric and then impute with median\n",
    "\n",
    "# Loan.Length ,Loan.Purpose,State,Home.Ownership,Employment.Length\n",
    "# V6-V10\n",
    "# create dummies for these, considering frequency cutoff as 20\n",
    "\n",
    "# Monthly.Income : V11,\n",
    "# Inquiries.in.the.Last.6.Months :V12\n",
    "\n",
    "# impute missing values with median\n",
    "\n",
    "# FICO.Range : V13\n",
    "\n",
    "# split the column at '-', convert the resulting columns to numeric(say a ,b) , \n",
    "# then create new column = (a+b)/2 \n"
   ]
  },
  {
   "cell_type": "code",
   "execution_count": 8,
   "metadata": {},
   "outputs": [],
   "source": [
    "# pipe_name=pdPipeline([\n",
    "#     ('name of the process',call to process),\n",
    "#     ('name of the process', call to process),\n",
    "#     .....\n",
    "# ])"
   ]
  },
  {
   "cell_type": "code",
   "execution_count": 9,
   "metadata": {},
   "outputs": [],
   "source": [
    "p1=pdPipeline([\n",
    "    ('var_select',VarSelector(['Amount.Requested','Amount.Funded.By.Investors',\n",
    "                               'Open.CREDIT.Lines','Revolving.CREDIT.Balance'])),\n",
    "    ('convert_to_numeric',convert_to_numeric()),\n",
    "    ('missing_trt',DataFrameImputer())\n",
    "])\n",
    "\n"
   ]
  },
  {
   "cell_type": "code",
   "execution_count": 10,
   "metadata": {},
   "outputs": [],
   "source": [
    "p2=pdPipeline([\n",
    "    ('var_select',VarSelector(['Debt.To.Income.Ratio'])),\n",
    "    ('string_clean',string_clean(replace_it='%',replace_with='')),\n",
    "    ('convert_to_numeric',convert_to_numeric()),\n",
    "    ('missing_trt',DataFrameImputer())\n",
    "])"
   ]
  },
  {
   "cell_type": "code",
   "execution_count": 11,
   "metadata": {},
   "outputs": [],
   "source": [
    "p3=pdPipeline([\n",
    "    ('var_select',VarSelector(['Loan.Length', 'Loan.Purpose','State','Home.Ownership',\n",
    "                               'Employment.Length'])),\n",
    "    ('missing_trt',DataFrameImputer()),\n",
    "    ('create_dummies',get_dummies_Pipe(20))\n",
    "])"
   ]
  },
  {
   "cell_type": "code",
   "execution_count": 12,
   "metadata": {},
   "outputs": [],
   "source": [
    "p4=pdPipeline([\n",
    "    ('var_select',VarSelector(['Monthly.Income','Inquiries.in.the.Last.6.Months'])),\n",
    "    ('missing_trt',DataFrameImputer())\n",
    "])"
   ]
  },
  {
   "cell_type": "code",
   "execution_count": 13,
   "metadata": {},
   "outputs": [],
   "source": [
    "p5=pdPipeline([\n",
    "    ('var_select',VarSelector(['FICO.Range'])),\n",
    "    ('custom_fico',custom_fico()),\n",
    "    ('missing_trt',DataFrameImputer())\n",
    "])"
   ]
  },
  {
   "cell_type": "code",
   "execution_count": 14,
   "metadata": {},
   "outputs": [],
   "source": [
    "data_pipe=FeatureUnion([\n",
    "    ('obj_to_num',p1),\n",
    "    ('dtir',p2),\n",
    "    ('obj_to_dum',p3),\n",
    "    ('num',p4),\n",
    "    ('fico',p5)\n",
    "])"
   ]
  },
  {
   "cell_type": "code",
   "execution_count": 15,
   "metadata": {},
   "outputs": [
    {
     "data": {
      "text/plain": [
       "FeatureUnion(n_jobs=None,\n",
       "             transformer_list=[('obj_to_num',\n",
       "                                pdPipeline(memory=None,\n",
       "                                           steps=[('var_select',\n",
       "                                                   VarSelector(feature_names=['Amount.Requested',\n",
       "                                                                              'Amount.Funded.By.Investors',\n",
       "                                                                              'Open.CREDIT.Lines',\n",
       "                                                                              'Revolving.CREDIT.Balance'])),\n",
       "                                                  ('convert_to_numeric',\n",
       "                                                   convert_to_numeric()),\n",
       "                                                  ('missing_trt',\n",
       "                                                   DataFrameImputer())],\n",
       "                                           verbose=False)),\n",
       "                               ('dtir',\n",
       "                                pdPipeline(memory=No...\n",
       "                                           steps=[('var_select',\n",
       "                                                   VarSelector(feature_names=['Monthly.Income',\n",
       "                                                                              'Inquiries.in.the.Last.6.Months'])),\n",
       "                                                  ('missing_trt',\n",
       "                                                   DataFrameImputer())],\n",
       "                                           verbose=False)),\n",
       "                               ('fico',\n",
       "                                pdPipeline(memory=None,\n",
       "                                           steps=[('var_select',\n",
       "                                                   VarSelector(feature_names=['FICO.Range'])),\n",
       "                                                  ('custom_fico',\n",
       "                                                   custom_fico()),\n",
       "                                                  ('missing_trt',\n",
       "                                                   DataFrameImputer())],\n",
       "                                           verbose=False))],\n",
       "             transformer_weights=None, verbose=False)"
      ]
     },
     "execution_count": 15,
     "metadata": {},
     "output_type": "execute_result"
    }
   ],
   "source": [
    "data_pipe.fit(ld_train)"
   ]
  },
  {
   "cell_type": "code",
   "execution_count": 16,
   "metadata": {},
   "outputs": [
    {
     "data": {
      "text/plain": [
       "61"
      ]
     },
     "execution_count": 16,
     "metadata": {},
     "output_type": "execute_result"
    }
   ],
   "source": [
    "len(data_pipe.get_feature_names())"
   ]
  },
  {
   "cell_type": "code",
   "execution_count": 17,
   "metadata": {},
   "outputs": [
    {
     "data": {
      "text/plain": [
       "(2200, 61)"
      ]
     },
     "execution_count": 17,
     "metadata": {},
     "output_type": "execute_result"
    }
   ],
   "source": [
    "data_pipe.transform(ld_train).shape"
   ]
  },
  {
   "cell_type": "code",
   "execution_count": 18,
   "metadata": {},
   "outputs": [],
   "source": [
    "x_train=pd.DataFrame(data=data_pipe.transform(ld_train),\n",
    "                    columns=data_pipe.get_feature_names())"
   ]
  },
  {
   "cell_type": "code",
   "execution_count": 19,
   "metadata": {},
   "outputs": [],
   "source": [
    "x_test=pd.DataFrame(data=data_pipe.transform(ld_test),\n",
    "                    columns=data_pipe.get_feature_names())"
   ]
  },
  {
   "cell_type": "code",
   "execution_count": 20,
   "metadata": {},
   "outputs": [
    {
     "data": {
      "text/plain": [
       "(2200, 61)"
      ]
     },
     "execution_count": 20,
     "metadata": {},
     "output_type": "execute_result"
    }
   ],
   "source": [
    "x_train.shape"
   ]
  },
  {
   "cell_type": "code",
   "execution_count": 21,
   "metadata": {},
   "outputs": [
    {
     "data": {
      "text/plain": [
       "(300, 61)"
      ]
     },
     "execution_count": 21,
     "metadata": {},
     "output_type": "execute_result"
    }
   ],
   "source": [
    "x_test.shape"
   ]
  },
  {
   "cell_type": "code",
   "execution_count": 22,
   "metadata": {},
   "outputs": [
    {
     "data": {
      "text/plain": [
       "Index(['obj_to_num__Amount.Requested',\n",
       "       'obj_to_num__Amount.Funded.By.Investors',\n",
       "       'obj_to_num__Open.CREDIT.Lines', 'obj_to_num__Revolving.CREDIT.Balance',\n",
       "       'dtir__Debt.To.Income.Ratio', 'obj_to_dum__Loan.Length_36 months',\n",
       "       'obj_to_dum__Loan.Length_60 months',\n",
       "       'obj_to_dum__Loan.Purpose_debt_consolidation',\n",
       "       'obj_to_dum__Loan.Purpose_credit_card',\n",
       "       'obj_to_dum__Loan.Purpose_other',\n",
       "       'obj_to_dum__Loan.Purpose_home_improvement',\n",
       "       'obj_to_dum__Loan.Purpose_major_purchase',\n",
       "       'obj_to_dum__Loan.Purpose_small_business',\n",
       "       'obj_to_dum__Loan.Purpose_car', 'obj_to_dum__Loan.Purpose_wedding',\n",
       "       'obj_to_dum__Loan.Purpose_medical', 'obj_to_dum__Loan.Purpose_moving',\n",
       "       'obj_to_dum__State_CA', 'obj_to_dum__State_NY', 'obj_to_dum__State_FL',\n",
       "       'obj_to_dum__State_TX', 'obj_to_dum__State_PA', 'obj_to_dum__State_IL',\n",
       "       'obj_to_dum__State_GA', 'obj_to_dum__State_NJ', 'obj_to_dum__State_VA',\n",
       "       'obj_to_dum__State_MA', 'obj_to_dum__State_MD', 'obj_to_dum__State_OH',\n",
       "       'obj_to_dum__State_NC', 'obj_to_dum__State_CO', 'obj_to_dum__State_WA',\n",
       "       'obj_to_dum__State_CT', 'obj_to_dum__State_AZ', 'obj_to_dum__State_MI',\n",
       "       'obj_to_dum__State_AL', 'obj_to_dum__State_MN', 'obj_to_dum__State_MO',\n",
       "       'obj_to_dum__State_NV', 'obj_to_dum__State_SC', 'obj_to_dum__State_OR',\n",
       "       'obj_to_dum__State_WI', 'obj_to_dum__State_KS',\n",
       "       'obj_to_dum__Home.Ownership_MORTGAGE',\n",
       "       'obj_to_dum__Home.Ownership_RENT', 'obj_to_dum__Home.Ownership_OWN',\n",
       "       'obj_to_dum__Employment.Length_10+ years',\n",
       "       'obj_to_dum__Employment.Length_< 1 year',\n",
       "       'obj_to_dum__Employment.Length_2 years',\n",
       "       'obj_to_dum__Employment.Length_3 years',\n",
       "       'obj_to_dum__Employment.Length_5 years',\n",
       "       'obj_to_dum__Employment.Length_4 years',\n",
       "       'obj_to_dum__Employment.Length_1 year',\n",
       "       'obj_to_dum__Employment.Length_6 years',\n",
       "       'obj_to_dum__Employment.Length_7 years',\n",
       "       'obj_to_dum__Employment.Length_8 years',\n",
       "       'obj_to_dum__Employment.Length_missing',\n",
       "       'obj_to_dum__Employment.Length_9 years', 'num__Monthly.Income',\n",
       "       'num__Inquiries.in.the.Last.6.Months', 'fico__fico'],\n",
       "      dtype='object')"
      ]
     },
     "execution_count": 22,
     "metadata": {},
     "output_type": "execute_result"
    }
   ],
   "source": [
    "x_train.columns"
   ]
  },
  {
   "cell_type": "code",
   "execution_count": 23,
   "metadata": {},
   "outputs": [
    {
     "data": {
      "text/plain": [
       "Index(['obj_to_num__Amount.Requested',\n",
       "       'obj_to_num__Amount.Funded.By.Investors',\n",
       "       'obj_to_num__Open.CREDIT.Lines', 'obj_to_num__Revolving.CREDIT.Balance',\n",
       "       'dtir__Debt.To.Income.Ratio', 'obj_to_dum__Loan.Length_36 months',\n",
       "       'obj_to_dum__Loan.Length_60 months',\n",
       "       'obj_to_dum__Loan.Purpose_debt_consolidation',\n",
       "       'obj_to_dum__Loan.Purpose_credit_card',\n",
       "       'obj_to_dum__Loan.Purpose_other',\n",
       "       'obj_to_dum__Loan.Purpose_home_improvement',\n",
       "       'obj_to_dum__Loan.Purpose_major_purchase',\n",
       "       'obj_to_dum__Loan.Purpose_small_business',\n",
       "       'obj_to_dum__Loan.Purpose_car', 'obj_to_dum__Loan.Purpose_wedding',\n",
       "       'obj_to_dum__Loan.Purpose_medical', 'obj_to_dum__Loan.Purpose_moving',\n",
       "       'obj_to_dum__State_CA', 'obj_to_dum__State_NY', 'obj_to_dum__State_FL',\n",
       "       'obj_to_dum__State_TX', 'obj_to_dum__State_PA', 'obj_to_dum__State_IL',\n",
       "       'obj_to_dum__State_GA', 'obj_to_dum__State_NJ', 'obj_to_dum__State_VA',\n",
       "       'obj_to_dum__State_MA', 'obj_to_dum__State_MD', 'obj_to_dum__State_OH',\n",
       "       'obj_to_dum__State_NC', 'obj_to_dum__State_CO', 'obj_to_dum__State_WA',\n",
       "       'obj_to_dum__State_CT', 'obj_to_dum__State_AZ', 'obj_to_dum__State_MI',\n",
       "       'obj_to_dum__State_AL', 'obj_to_dum__State_MN', 'obj_to_dum__State_MO',\n",
       "       'obj_to_dum__State_NV', 'obj_to_dum__State_SC', 'obj_to_dum__State_OR',\n",
       "       'obj_to_dum__State_WI', 'obj_to_dum__State_KS',\n",
       "       'obj_to_dum__Home.Ownership_MORTGAGE',\n",
       "       'obj_to_dum__Home.Ownership_RENT', 'obj_to_dum__Home.Ownership_OWN',\n",
       "       'obj_to_dum__Employment.Length_10+ years',\n",
       "       'obj_to_dum__Employment.Length_< 1 year',\n",
       "       'obj_to_dum__Employment.Length_2 years',\n",
       "       'obj_to_dum__Employment.Length_3 years',\n",
       "       'obj_to_dum__Employment.Length_5 years',\n",
       "       'obj_to_dum__Employment.Length_4 years',\n",
       "       'obj_to_dum__Employment.Length_1 year',\n",
       "       'obj_to_dum__Employment.Length_6 years',\n",
       "       'obj_to_dum__Employment.Length_7 years',\n",
       "       'obj_to_dum__Employment.Length_8 years',\n",
       "       'obj_to_dum__Employment.Length_missing',\n",
       "       'obj_to_dum__Employment.Length_9 years', 'num__Monthly.Income',\n",
       "       'num__Inquiries.in.the.Last.6.Months', 'fico__fico'],\n",
       "      dtype='object')"
      ]
     },
     "execution_count": 23,
     "metadata": {},
     "output_type": "execute_result"
    }
   ],
   "source": [
    "x_test.columns"
   ]
  },
  {
   "cell_type": "code",
   "execution_count": null,
   "metadata": {},
   "outputs": [],
   "source": []
  },
  {
   "cell_type": "code",
   "execution_count": null,
   "metadata": {},
   "outputs": [],
   "source": []
  }
 ],
 "metadata": {
  "kernelspec": {
   "display_name": "Python 3",
   "language": "python",
   "name": "python3"
  },
  "language_info": {
   "codemirror_mode": {
    "name": "ipython",
    "version": 3
   },
   "file_extension": ".py",
   "mimetype": "text/x-python",
   "name": "python",
   "nbconvert_exporter": "python",
   "pygments_lexer": "ipython3",
   "version": "3.7.6"
  }
 },
 "nbformat": 4,
 "nbformat_minor": 2
}
