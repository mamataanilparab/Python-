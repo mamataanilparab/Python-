{
 "cells": [
  {
   "cell_type": "markdown",
   "metadata": {},
   "source": [
    "# Python Excercise 1"
   ]
  },
  {
   "cell_type": "markdown",
   "metadata": {},
   "source": [
    "#### 1. Generate a list containing 50 random integers between 10 to 100. Write a program which removes all the values which are divisible by 3 from the list . Then it subtracts 1 from all the remaining values and then removes all the values divisible by 5 from the list ."
   ]
  },
  {
   "cell_type": "code",
   "execution_count": 2,
   "metadata": {},
   "outputs": [],
   "source": [
    "import numpy as np"
   ]
  },
  {
   "cell_type": "code",
   "execution_count": 3,
   "metadata": {},
   "outputs": [],
   "source": [
    "x=np.random.randint(10,101,50)"
   ]
  },
  {
   "cell_type": "code",
   "execution_count": 4,
   "metadata": {},
   "outputs": [
    {
     "data": {
      "text/plain": [
       "array([96, 88, 76, 64, 77, 89, 58, 65, 36, 47, 70, 76, 69, 70, 79, 63, 18,\n",
       "       26, 26, 89, 16, 24, 83, 73, 72, 95, 96, 48, 48, 24, 68, 68, 35, 50,\n",
       "       32, 57, 14, 51, 52, 56, 49, 30, 19, 75, 72, 24, 71, 13, 19, 66])"
      ]
     },
     "execution_count": 4,
     "metadata": {},
     "output_type": "execute_result"
    }
   ],
   "source": [
    "x"
   ]
  },
  {
   "cell_type": "code",
   "execution_count": 5,
   "metadata": {},
   "outputs": [],
   "source": [
    "x_step1=[elem for elem in x if elem%3==0]"
   ]
  },
  {
   "cell_type": "code",
   "execution_count": 6,
   "metadata": {},
   "outputs": [
    {
     "data": {
      "text/plain": [
       "[96, 36, 69, 63, 18, 24, 72, 96, 48, 48, 24, 57, 51, 30, 75, 72, 24, 66]"
      ]
     },
     "execution_count": 6,
     "metadata": {},
     "output_type": "execute_result"
    }
   ],
   "source": [
    "x_step1"
   ]
  },
  {
   "cell_type": "code",
   "execution_count": 7,
   "metadata": {},
   "outputs": [],
   "source": [
    "x_step2=[elem-1 for elem in x_step1]"
   ]
  },
  {
   "cell_type": "code",
   "execution_count": 8,
   "metadata": {},
   "outputs": [
    {
     "data": {
      "text/plain": [
       "[95, 35, 68, 62, 17, 23, 71, 95, 47, 47, 23, 56, 50, 29, 74, 71, 23, 65]"
      ]
     },
     "execution_count": 8,
     "metadata": {},
     "output_type": "execute_result"
    }
   ],
   "source": [
    "x_step2"
   ]
  },
  {
   "cell_type": "code",
   "execution_count": 9,
   "metadata": {},
   "outputs": [],
   "source": [
    "x_step3=[elem for elem in x_step2 if elem%5==0]"
   ]
  },
  {
   "cell_type": "code",
   "execution_count": 10,
   "metadata": {},
   "outputs": [
    {
     "data": {
      "text/plain": [
       "[95, 35, 95, 50, 65]"
      ]
     },
     "execution_count": 10,
     "metadata": {},
     "output_type": "execute_result"
    }
   ],
   "source": [
    "x_step3"
   ]
  },
  {
   "cell_type": "markdown",
   "metadata": {},
   "source": [
    "#### 2. Consider the following dictionary  \n",
    "#### {'a':'e','b': 's','c':'q','d':'p','j':'n'}\n",
    "#### Write a program which takes input any string and then replaces all the letters which are keys in the above dictionary with their corresponding values in the dictionary."
   ]
  },
  {
   "cell_type": "code",
   "execution_count": 11,
   "metadata": {},
   "outputs": [],
   "source": [
    "def string_remap(input_string,dict_map):\n",
    "    \n",
    "    x=list(input_string)\n",
    "    \n",
    "    for i,char in enumerate(x):\n",
    "        \n",
    "        if char in dict_map.keys():\n",
    "            x[i]=dict_map[char]\n",
    "            \n",
    "    remapped_string=''.join(x)\n",
    "    return(remapped_string)"
   ]
  },
  {
   "cell_type": "code",
   "execution_count": 12,
   "metadata": {},
   "outputs": [
    {
     "data": {
      "text/plain": [
       "'e$neqtep'"
      ]
     },
     "execution_count": 12,
     "metadata": {},
     "output_type": "execute_result"
    }
   ],
   "source": [
    "string_remap('abjected',{'a':'e','b':'$','c':'q','d':'p','j':'n'})"
   ]
  },
  {
   "cell_type": "markdown",
   "metadata": {},
   "source": [
    "#### 3. Write a program which takes input a list of strings and removes strings until all the remaining strings are of equal lengths . Assume that in the input list , there will be at-least two strings of the same length . For simplicity , assume that list will not contain equal length strings for multiple lengths"
   ]
  },
  {
   "cell_type": "code",
   "execution_count": 13,
   "metadata": {},
   "outputs": [],
   "source": [
    "def rem_str(x):\n",
    "    \n",
    "    lens=[len(a) for a in x]\n",
    "    \n",
    "    mode=max(set(lens),key=lens.count)\n",
    "    \n",
    "    keep=[a for a in x if len(a)==mode]\n",
    "    \n",
    "    return(keep)"
   ]
  },
  {
   "cell_type": "code",
   "execution_count": 13,
   "metadata": {},
   "outputs": [
    {
     "data": {
      "text/plain": [
       "['acbde', 'qwert']"
      ]
     },
     "execution_count": 13,
     "metadata": {},
     "output_type": "execute_result"
    }
   ],
   "source": [
    "x=['abc','abcd','acbde','acbgeh','qwert']\n",
    "rem_str(x)"
   ]
  },
  {
   "cell_type": "markdown",
   "metadata": {},
   "source": [
    "#### 4. Write a function which tells you whether you can take jugs of capacity 3 and 5 litres and fill another jug of capacity x completely with water using just these two . For simplicity assume that you can only pour into the jug of capacity x . You can not take any water out. And youstart with jug of capacity x being empty. It is acceptable if you dont use any one of the jugs [of capacity 3 and 5 litres]"
   ]
  },
  {
   "cell_type": "code",
   "execution_count": 14,
   "metadata": {},
   "outputs": [],
   "source": [
    "def func(big_jug,c1=3,c2=5):\n",
    "    \n",
    "    try_a=list(range(0,int(big_jug/c1)+1))\n",
    "    \n",
    "    for a in try_a:\n",
    "        \n",
    "        b=(big_jug-c1*a)/c2\n",
    "        \n",
    "        if b==int(b):\n",
    "            return('yes')\n",
    "    return('no')"
   ]
  },
  {
   "cell_type": "markdown",
   "metadata": {},
   "source": [
    "#### 5. Use dictionary comprehension to create a dictionary with keys : t1,t2,t3.......t100 which takes random integers from the range [1,100] as their corresponding values. Write a function which takes this dictionary as input and returns number of unique values from all key:value pairs in that dictionary ."
   ]
  },
  {
   "cell_type": "code",
   "execution_count": 16,
   "metadata": {},
   "outputs": [],
   "source": [
    "d ={'t'+str(i):np.random.randint(1,101) for i in range(1,101)}"
   ]
  },
  {
   "cell_type": "code",
   "execution_count": 17,
   "metadata": {},
   "outputs": [],
   "source": [
    "def dict_unique_vals(some_dict):\n",
    "    \n",
    "    unique_vals=set(some_dict.values())\n",
    "    \n",
    "    return(len(unique_vals))"
   ]
  },
  {
   "cell_type": "code",
   "execution_count": 18,
   "metadata": {},
   "outputs": [
    {
     "data": {
      "text/plain": [
       "67"
      ]
     },
     "execution_count": 18,
     "metadata": {},
     "output_type": "execute_result"
    }
   ],
   "source": [
    "dict_unique_vals(d)"
   ]
  },
  {
   "cell_type": "markdown",
   "metadata": {},
   "source": [
    "#### 6. Imagine a circle and two squares: a smaller and a bigger one. For the smaller one, the circle is a circumcircle and for the bigger one, an incircle. Create a function, that takes an integer (radius of the circle) and returns the difference of the areas of the two squares."
   ]
  },
  {
   "cell_type": "code",
   "execution_count": 19,
   "metadata": {},
   "outputs": [],
   "source": [
    "def area_diff(r):\n",
    "    \n",
    "    large_sq_area=(2*r)**2\n",
    "\n",
    "    small_sq_area=2*r**2\n",
    "    \n",
    "    return(large_sq_area-small_sq_area)"
   ]
  },
  {
   "cell_type": "code",
   "execution_count": 20,
   "metadata": {},
   "outputs": [
    {
     "data": {
      "text/plain": [
       "32"
      ]
     },
     "execution_count": 20,
     "metadata": {},
     "output_type": "execute_result"
    }
   ],
   "source": [
    "area_diff(4)"
   ]
  },
  {
   "cell_type": "markdown",
   "metadata": {},
   "source": [
    "#### 7. A number is said to be Harshad if it's exactly divisible by the sum of its digits. Create a function that determines whether a number is a Harshad or not. Input to the function will be an integer."
   ]
  },
  {
   "cell_type": "code",
   "execution_count": 21,
   "metadata": {},
   "outputs": [],
   "source": [
    "def is_harshad(x):\n",
    "    \n",
    "    digits=[int(i) for i in list(str(x))]\n",
    "    \n",
    "    return(x%sum(digits)==0)"
   ]
  },
  {
   "cell_type": "code",
   "execution_count": 22,
   "metadata": {},
   "outputs": [
    {
     "data": {
      "text/plain": [
       "True"
      ]
     },
     "execution_count": 22,
     "metadata": {},
     "output_type": "execute_result"
    }
   ],
   "source": [
    "is_harshad(171)"
   ]
  },
  {
   "cell_type": "code",
   "execution_count": 22,
   "metadata": {},
   "outputs": [
    {
     "data": {
      "text/plain": [
       "False"
      ]
     },
     "execution_count": 22,
     "metadata": {},
     "output_type": "execute_result"
    }
   ],
   "source": [
    "is_harshad(41)"
   ]
  },
  {
   "cell_type": "markdown",
   "metadata": {},
   "source": [
    "#### 8. Write a function which takes an integer n as input and returns sum of all even numbers in the first n terms of a fibonacci series ."
   ]
  },
  {
   "cell_type": "code",
   "execution_count": 23,
   "metadata": {},
   "outputs": [],
   "source": [
    "def fib(n):\n",
    "    \n",
    "    start=[1,1]\n",
    "    \n",
    "    while True:\n",
    "        start.append(start[-1]+start[-2])\n",
    "        \n",
    "        if len(start)==n:\n",
    "            return start\n"
   ]
  },
  {
   "cell_type": "code",
   "execution_count": 24,
   "metadata": {},
   "outputs": [],
   "source": [
    "def fib_even_sum(n):\n",
    "    \n",
    "    even_members=[x for x in fib(n) if x%2==0]\n",
    "    \n",
    "    return(sum(even_members))"
   ]
  },
  {
   "cell_type": "code",
   "execution_count": 25,
   "metadata": {},
   "outputs": [
    {
     "data": {
      "text/plain": [
       "3382"
      ]
     },
     "execution_count": 25,
     "metadata": {},
     "output_type": "execute_result"
    }
   ],
   "source": [
    "fib_even_sum(20)"
   ]
  },
  {
   "cell_type": "markdown",
   "metadata": {},
   "source": [
    "#### 9. Write a function which takes input an english sentence of any length , and a set containing some stop words. Function then removes all stop words from the sentence and returns a dictionary where keys are all unique words in the sentence and values are their count in the sentence ."
   ]
  },
  {
   "cell_type": "code",
   "execution_count": 26,
   "metadata": {},
   "outputs": [],
   "source": [
    "def count_dict(sent,stop_words):\n",
    "    \n",
    "    all_words=sent.split()\n",
    "    \n",
    "    sans_stop=[word for word in all_words if word not in stop_words]\n",
    "    \n",
    "    d={}\n",
    "    \n",
    "    for word in set(sans_stop):\n",
    "        d[word]=sans_stop.count(word)\n",
    "        \n",
    "    return(d)"
   ]
  },
  {
   "cell_type": "code",
   "execution_count": 27,
   "metadata": {},
   "outputs": [
    {
     "data": {
      "text/plain": [
       "{'same': 1, 'all': 1, 'that': 11, 'refers': 2, 'true': 1, 'not': 1, 'for': 1}"
      ]
     },
     "execution_count": 27,
     "metadata": {},
     "output_type": "execute_result"
    }
   ],
   "source": [
    "sent='it is true for all that that that that that that that refers to is not the same that that that that refers to'\n",
    "stop={'is','to','it','the'}\n",
    "count_dict(sent,stop)"
   ]
  },
  {
   "cell_type": "markdown",
   "metadata": {},
   "source": [
    "#### 10. consider this list of addresses ['H-73, MDT, Powai , Mumbai' , '1604, SS, Hyderabad' ,'B block 73, Adyar, Chennai'] Extract cities from each address, use list comprehension ."
   ]
  },
  {
   "cell_type": "code",
   "execution_count": 28,
   "metadata": {},
   "outputs": [],
   "source": [
    "x=['H-73, MDT, Powai , Mumbai' , '1604, SS, Hyderabad' ,'B block 73, Adyar, Chennai']"
   ]
  },
  {
   "cell_type": "code",
   "execution_count": 29,
   "metadata": {},
   "outputs": [],
   "source": [
    "cities=[elem.split(',')[-1] for elem in x]"
   ]
  },
  {
   "cell_type": "code",
   "execution_count": 30,
   "metadata": {},
   "outputs": [
    {
     "data": {
      "text/plain": [
       "[' Mumbai', ' Hyderabad', ' Chennai']"
      ]
     },
     "execution_count": 30,
     "metadata": {},
     "output_type": "execute_result"
    }
   ],
   "source": [
    "cities"
   ]
  },
  {
   "cell_type": "markdown",
   "metadata": {},
   "source": [
    "#### 11. given a list , create a dictionary with counts of unique elements that it contains input list = ['a','b','a','a','b','c','c','a','b'] output dictionary = {'a':4,'b':3,'c':2}"
   ]
  },
  {
   "cell_type": "code",
   "execution_count": 31,
   "metadata": {},
   "outputs": [],
   "source": [
    "x=['a','b','a','a','b','c','c','a','b']"
   ]
  },
  {
   "cell_type": "code",
   "execution_count": 32,
   "metadata": {},
   "outputs": [],
   "source": [
    "out_dict={elem:x.count(elem) for elem in set(x)}"
   ]
  },
  {
   "cell_type": "code",
   "execution_count": 33,
   "metadata": {},
   "outputs": [
    {
     "data": {
      "text/plain": [
       "{'c': 2, 'a': 4, 'b': 3}"
      ]
     },
     "execution_count": 33,
     "metadata": {},
     "output_type": "execute_result"
    }
   ],
   "source": [
    "out_dict"
   ]
  }
 ],
 "metadata": {
  "kernelspec": {
   "display_name": "Python 3",
   "language": "python",
   "name": "python3"
  },
  "language_info": {
   "codemirror_mode": {
    "name": "ipython",
    "version": 3
   },
   "file_extension": ".py",
   "mimetype": "text/x-python",
   "name": "python",
   "nbconvert_exporter": "python",
   "pygments_lexer": "ipython3",
   "version": "3.7.6"
  }
 },
 "nbformat": 4,
 "nbformat_minor": 2
}
