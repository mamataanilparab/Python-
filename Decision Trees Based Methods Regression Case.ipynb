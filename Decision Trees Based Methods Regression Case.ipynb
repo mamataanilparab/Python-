{
 "cells": [
  {
   "cell_type": "code",
   "execution_count": 4,
   "metadata": {},
   "outputs": [],
   "source": [
    "import pandas as pd\n",
    "import numpy as np\n",
    "from mypipes import *"
   ]
  },
  {
   "cell_type": "code",
   "execution_count": 5,
   "metadata": {},
   "outputs": [],
   "source": [
    "file=pd.read_csv(\"C:\\\\Users\\\\Larry Williams\\\\Desktop\\\\Mamata\\\\Edvancer\\\\data\\\\data\\\\insurance.csv\")"
   ]
  },
  {
   "cell_type": "code",
   "execution_count": 6,
   "metadata": {},
   "outputs": [
    {
     "data": {
      "text/html": [
       "<div>\n",
       "<style scoped>\n",
       "    .dataframe tbody tr th:only-of-type {\n",
       "        vertical-align: middle;\n",
       "    }\n",
       "\n",
       "    .dataframe tbody tr th {\n",
       "        vertical-align: top;\n",
       "    }\n",
       "\n",
       "    .dataframe thead th {\n",
       "        text-align: right;\n",
       "    }\n",
       "</style>\n",
       "<table border=\"1\" class=\"dataframe\">\n",
       "  <thead>\n",
       "    <tr style=\"text-align: right;\">\n",
       "      <th></th>\n",
       "      <th>age</th>\n",
       "      <th>sex</th>\n",
       "      <th>bmi</th>\n",
       "      <th>children</th>\n",
       "      <th>smoker</th>\n",
       "      <th>region</th>\n",
       "      <th>charges</th>\n",
       "    </tr>\n",
       "  </thead>\n",
       "  <tbody>\n",
       "    <tr>\n",
       "      <th>0</th>\n",
       "      <td>19</td>\n",
       "      <td>female</td>\n",
       "      <td>27.900</td>\n",
       "      <td>0</td>\n",
       "      <td>yes</td>\n",
       "      <td>southwest</td>\n",
       "      <td>16884.92400</td>\n",
       "    </tr>\n",
       "    <tr>\n",
       "      <th>1</th>\n",
       "      <td>18</td>\n",
       "      <td>male</td>\n",
       "      <td>33.770</td>\n",
       "      <td>1</td>\n",
       "      <td>no</td>\n",
       "      <td>southeast</td>\n",
       "      <td>1725.55230</td>\n",
       "    </tr>\n",
       "    <tr>\n",
       "      <th>2</th>\n",
       "      <td>28</td>\n",
       "      <td>male</td>\n",
       "      <td>33.000</td>\n",
       "      <td>3</td>\n",
       "      <td>no</td>\n",
       "      <td>southeast</td>\n",
       "      <td>4449.46200</td>\n",
       "    </tr>\n",
       "    <tr>\n",
       "      <th>3</th>\n",
       "      <td>33</td>\n",
       "      <td>male</td>\n",
       "      <td>22.705</td>\n",
       "      <td>0</td>\n",
       "      <td>no</td>\n",
       "      <td>northwest</td>\n",
       "      <td>21984.47061</td>\n",
       "    </tr>\n",
       "    <tr>\n",
       "      <th>4</th>\n",
       "      <td>32</td>\n",
       "      <td>male</td>\n",
       "      <td>28.880</td>\n",
       "      <td>0</td>\n",
       "      <td>no</td>\n",
       "      <td>northwest</td>\n",
       "      <td>3866.85520</td>\n",
       "    </tr>\n",
       "  </tbody>\n",
       "</table>\n",
       "</div>"
      ],
      "text/plain": [
       "   age     sex     bmi  children smoker     region      charges\n",
       "0   19  female  27.900         0    yes  southwest  16884.92400\n",
       "1   18    male  33.770         1     no  southeast   1725.55230\n",
       "2   28    male  33.000         3     no  southeast   4449.46200\n",
       "3   33    male  22.705         0     no  northwest  21984.47061\n",
       "4   32    male  28.880         0     no  northwest   3866.85520"
      ]
     },
     "execution_count": 6,
     "metadata": {},
     "output_type": "execute_result"
    }
   ],
   "source": [
    "file.head()"
   ]
  },
  {
   "cell_type": "code",
   "execution_count": 7,
   "metadata": {},
   "outputs": [],
   "source": [
    "cat_vars=['sex','region','smoker']\n",
    "num_vars=['age','bmi','children']"
   ]
  },
  {
   "cell_type": "code",
   "execution_count": 8,
   "metadata": {},
   "outputs": [],
   "source": [
    "p1=pdPipeline([\n",
    "    ('cat_select',VarSelector(cat_vars)),\n",
    "    ('missing_trt',DataFrameImputer()),\n",
    "    ('create_dummies',get_dummies_Pipe(15))\n",
    "])\n",
    "\n",
    "p2=pdPipeline([\n",
    "    ('num_select',VarSelector(num_vars)),\n",
    "    ('missing_trt',DataFrameImputer())\n",
    "])\n",
    "\n",
    "data_pipe=FeatureUnion([\n",
    "    ('cat_pipe',p1),\n",
    "    ('num_pipe',p2)\n",
    "])"
   ]
  },
  {
   "cell_type": "code",
   "execution_count": 9,
   "metadata": {},
   "outputs": [],
   "source": [
    "x_train=pd.DataFrame(data=data_pipe.fit_transform(file),\n",
    "                     columns=data_pipe.get_feature_names())"
   ]
  },
  {
   "cell_type": "code",
   "execution_count": 10,
   "metadata": {},
   "outputs": [],
   "source": [
    "y_train=file['charges']"
   ]
  },
  {
   "cell_type": "code",
   "execution_count": 11,
   "metadata": {},
   "outputs": [],
   "source": [
    "from sklearn.tree import DecisionTreeRegressor\n",
    "from sklearn.ensemble import RandomForestRegressor\n",
    "from sklearn.ensemble import ExtraTreesRegressor\n",
    "from sklearn.model_selection import RandomizedSearchCV"
   ]
  },
  {
   "cell_type": "code",
   "execution_count": 12,
   "metadata": {},
   "outputs": [],
   "source": [
    "def report(results, n_top=3):\n",
    "    for i in range(1, n_top + 1):\n",
    "        candidates = np.flatnonzero(results['rank_test_score'] == i)\n",
    "        for candidate in candidates:\n",
    "            print(\"Model with rank: {0}\".format(i))\n",
    "            print(\"Mean validation score: {0:.5f} (std: {1:.5f})\".format(\n",
    "                  results['mean_test_score'][candidate],\n",
    "                  results['std_test_score'][candidate]))\n",
    "            print(\"Parameters: {0}\".format(results['params'][candidate]))\n",
    "            print(\"\")"
   ]
  },
  {
   "cell_type": "markdown",
   "metadata": {},
   "source": [
    "## Decision Trees"
   ]
  },
  {
   "cell_type": "code",
   "execution_count": 13,
   "metadata": {},
   "outputs": [],
   "source": [
    "params={ \n",
    "        'max_depth':[None,5,10,15,20,30,50,70],\n",
    "            'min_samples_leaf':[1,2,5,10,15,20], \n",
    "            'min_samples_split':[2,5,10,15,20]\n",
    "       }"
   ]
  },
  {
   "cell_type": "code",
   "execution_count": 14,
   "metadata": {},
   "outputs": [],
   "source": [
    "reg=DecisionTreeRegressor()"
   ]
  },
  {
   "cell_type": "code",
   "execution_count": 15,
   "metadata": {},
   "outputs": [],
   "source": [
    "random_search=RandomizedSearchCV(reg,\n",
    "                                 cv=10,\n",
    "                                 param_distributions=params,\n",
    "                                 scoring='neg_mean_absolute_error',\n",
    "                                 n_iter=10,n_jobs=-1,verbose=20\n",
    "                                    )"
   ]
  },
  {
   "cell_type": "code",
   "execution_count": 16,
   "metadata": {},
   "outputs": [
    {
     "name": "stdout",
     "output_type": "stream",
     "text": [
      "Fitting 10 folds for each of 10 candidates, totalling 100 fits\n"
     ]
    },
    {
     "name": "stderr",
     "output_type": "stream",
     "text": [
      "[Parallel(n_jobs=-1)]: Using backend LokyBackend with 4 concurrent workers.\n",
      "[Parallel(n_jobs=-1)]: Done   1 tasks      | elapsed:    2.1s\n",
      "[Parallel(n_jobs=-1)]: Done   2 tasks      | elapsed:    2.1s\n",
      "[Parallel(n_jobs=-1)]: Done   3 tasks      | elapsed:    2.1s\n",
      "[Parallel(n_jobs=-1)]: Done   4 tasks      | elapsed:    2.2s\n",
      "[Parallel(n_jobs=-1)]: Done   5 tasks      | elapsed:    2.2s\n",
      "[Parallel(n_jobs=-1)]: Done   6 tasks      | elapsed:    2.2s\n",
      "[Parallel(n_jobs=-1)]: Done   7 tasks      | elapsed:    2.2s\n",
      "[Parallel(n_jobs=-1)]: Done   8 tasks      | elapsed:    2.2s\n",
      "[Parallel(n_jobs=-1)]: Done   9 tasks      | elapsed:    2.2s\n",
      "[Parallel(n_jobs=-1)]: Done  10 tasks      | elapsed:    2.2s\n",
      "[Parallel(n_jobs=-1)]: Done  11 tasks      | elapsed:    2.2s\n",
      "[Parallel(n_jobs=-1)]: Done  12 tasks      | elapsed:    2.2s\n",
      "[Parallel(n_jobs=-1)]: Done  13 tasks      | elapsed:    2.2s\n",
      "[Parallel(n_jobs=-1)]: Done  14 tasks      | elapsed:    2.2s\n",
      "[Parallel(n_jobs=-1)]: Done  15 tasks      | elapsed:    2.2s\n",
      "[Parallel(n_jobs=-1)]: Done  16 tasks      | elapsed:    2.2s\n",
      "[Parallel(n_jobs=-1)]: Done  17 tasks      | elapsed:    2.2s\n",
      "[Parallel(n_jobs=-1)]: Done  18 tasks      | elapsed:    2.2s\n",
      "[Parallel(n_jobs=-1)]: Done  19 tasks      | elapsed:    2.2s\n",
      "[Parallel(n_jobs=-1)]: Done  20 tasks      | elapsed:    2.3s\n",
      "[Parallel(n_jobs=-1)]: Batch computation too fast (0.1732s.) Setting batch_size=2.\n",
      "[Parallel(n_jobs=-1)]: Done  21 tasks      | elapsed:    2.3s\n",
      "[Parallel(n_jobs=-1)]: Done  22 tasks      | elapsed:    2.3s\n",
      "[Parallel(n_jobs=-1)]: Done  23 tasks      | elapsed:    2.3s\n",
      "[Parallel(n_jobs=-1)]: Done  24 tasks      | elapsed:    2.3s\n",
      "[Parallel(n_jobs=-1)]: Done  25 tasks      | elapsed:    2.3s\n",
      "[Parallel(n_jobs=-1)]: Done  26 tasks      | elapsed:    2.3s\n",
      "[Parallel(n_jobs=-1)]: Done  27 tasks      | elapsed:    2.3s\n",
      "[Parallel(n_jobs=-1)]: Done  28 tasks      | elapsed:    2.3s\n",
      "[Parallel(n_jobs=-1)]: Done  30 tasks      | elapsed:    2.3s\n",
      "[Parallel(n_jobs=-1)]: Batch computation too fast (0.0566s.) Setting batch_size=4.\n",
      "[Parallel(n_jobs=-1)]: Done  32 tasks      | elapsed:    2.3s\n",
      "[Parallel(n_jobs=-1)]: Done  34 tasks      | elapsed:    2.3s\n",
      "[Parallel(n_jobs=-1)]: Done  36 tasks      | elapsed:    2.3s\n",
      "[Parallel(n_jobs=-1)]: Done  38 tasks      | elapsed:    2.4s\n",
      "[Parallel(n_jobs=-1)]: Done  40 tasks      | elapsed:    2.4s\n",
      "[Parallel(n_jobs=-1)]: Done  42 tasks      | elapsed:    2.4s\n",
      "[Parallel(n_jobs=-1)]: Done  44 tasks      | elapsed:    2.4s\n",
      "[Parallel(n_jobs=-1)]: Done  48 tasks      | elapsed:    2.4s\n",
      "[Parallel(n_jobs=-1)]: Batch computation too fast (0.0613s.) Setting batch_size=8.\n",
      "[Parallel(n_jobs=-1)]: Done  52 tasks      | elapsed:    2.4s\n",
      "[Parallel(n_jobs=-1)]: Done  56 tasks      | elapsed:    2.4s\n",
      "[Parallel(n_jobs=-1)]: Done  60 tasks      | elapsed:    2.4s\n",
      "[Parallel(n_jobs=-1)]: Done  64 tasks      | elapsed:    2.4s\n",
      "[Parallel(n_jobs=-1)]: Done  68 tasks      | elapsed:    2.4s\n",
      "[Parallel(n_jobs=-1)]: Done  72 tasks      | elapsed:    2.4s\n",
      "[Parallel(n_jobs=-1)]: Done  76 tasks      | elapsed:    2.4s\n",
      "[Parallel(n_jobs=-1)]: Done  77 tasks      | elapsed:    2.4s\n",
      "[Parallel(n_jobs=-1)]: Done  78 tasks      | elapsed:    2.4s\n",
      "[Parallel(n_jobs=-1)]: Done  79 tasks      | elapsed:    2.4s\n",
      "[Parallel(n_jobs=-1)]: Done  80 tasks      | elapsed:    2.5s\n",
      "[Parallel(n_jobs=-1)]: Done  81 tasks      | elapsed:    2.5s\n",
      "[Parallel(n_jobs=-1)]: Done  82 tasks      | elapsed:    2.5s\n",
      "[Parallel(n_jobs=-1)]: Done  83 tasks      | elapsed:    2.5s\n",
      "[Parallel(n_jobs=-1)]: Done  84 tasks      | elapsed:    2.5s\n",
      "[Parallel(n_jobs=-1)]: Done  85 tasks      | elapsed:    2.5s\n",
      "[Parallel(n_jobs=-1)]: Done  86 tasks      | elapsed:    2.5s\n",
      "[Parallel(n_jobs=-1)]: Done  87 tasks      | elapsed:    2.5s\n",
      "[Parallel(n_jobs=-1)]: Done  88 tasks      | elapsed:    2.5s\n",
      "[Parallel(n_jobs=-1)]: Done  89 tasks      | elapsed:    2.5s\n",
      "[Parallel(n_jobs=-1)]: Done  90 tasks      | elapsed:    2.5s\n",
      "[Parallel(n_jobs=-1)]: Done  91 tasks      | elapsed:    2.5s\n",
      "[Parallel(n_jobs=-1)]: Done  92 tasks      | elapsed:    2.5s\n",
      "[Parallel(n_jobs=-1)]: Done  93 tasks      | elapsed:    2.5s\n",
      "[Parallel(n_jobs=-1)]: Done 100 out of 100 | elapsed:    2.5s finished\n"
     ]
    },
    {
     "data": {
      "text/plain": [
       "RandomizedSearchCV(cv=10, error_score=nan,\n",
       "                   estimator=DecisionTreeRegressor(ccp_alpha=0.0,\n",
       "                                                   criterion='mse',\n",
       "                                                   max_depth=None,\n",
       "                                                   max_features=None,\n",
       "                                                   max_leaf_nodes=None,\n",
       "                                                   min_impurity_decrease=0.0,\n",
       "                                                   min_impurity_split=None,\n",
       "                                                   min_samples_leaf=1,\n",
       "                                                   min_samples_split=2,\n",
       "                                                   min_weight_fraction_leaf=0.0,\n",
       "                                                   presort='deprecated',\n",
       "                                                   random_state=None,\n",
       "                                                   splitter='best'),\n",
       "                   iid='deprecated', n_iter=10, n_jobs=-1,\n",
       "                   param_distributions={'max_depth': [None, 5, 10, 15, 20, 30,\n",
       "                                                      50, 70],\n",
       "                                        'min_samples_leaf': [1, 2, 5, 10, 15,\n",
       "                                                             20],\n",
       "                                        'min_samples_split': [2, 5, 10, 15,\n",
       "                                                              20]},\n",
       "                   pre_dispatch='2*n_jobs', random_state=None, refit=True,\n",
       "                   return_train_score=False, scoring='neg_mean_absolute_error',\n",
       "                   verbose=20)"
      ]
     },
     "execution_count": 16,
     "metadata": {},
     "output_type": "execute_result"
    }
   ],
   "source": [
    "random_search.fit(x_train,y_train)"
   ]
  },
  {
   "cell_type": "code",
   "execution_count": 17,
   "metadata": {},
   "outputs": [
    {
     "name": "stdout",
     "output_type": "stream",
     "text": [
      "Model with rank: 1\n",
      "Mean validation score: -2581.23389 (std: 271.58805)\n",
      "Parameters: {'min_samples_split': 20, 'min_samples_leaf': 10, 'max_depth': 5}\n",
      "\n",
      "Model with rank: 2\n",
      "Mean validation score: -2631.75000 (std: 284.48582)\n",
      "Parameters: {'min_samples_split': 5, 'min_samples_leaf': 2, 'max_depth': 5}\n",
      "\n",
      "Model with rank: 3\n",
      "Mean validation score: -2645.30744 (std: 269.05048)\n",
      "Parameters: {'min_samples_split': 10, 'min_samples_leaf': 1, 'max_depth': 5}\n",
      "\n",
      "Model with rank: 4\n",
      "Mean validation score: -2674.02743 (std: 310.73332)\n",
      "Parameters: {'min_samples_split': 20, 'min_samples_leaf': 15, 'max_depth': 50}\n",
      "\n",
      "Model with rank: 5\n",
      "Mean validation score: -2680.16083 (std: 295.29210)\n",
      "Parameters: {'min_samples_split': 15, 'min_samples_leaf': 20, 'max_depth': 10}\n",
      "\n"
     ]
    }
   ],
   "source": [
    "report(random_search.cv_results_,5)"
   ]
  },
  {
   "cell_type": "markdown",
   "metadata": {},
   "source": [
    "## Random Forest\n"
   ]
  },
  {
   "cell_type": "code",
   "execution_count": 18,
   "metadata": {},
   "outputs": [],
   "source": [
    "param_dist = {\"n_estimators\":[50,100,200],\n",
    "              \"max_features\": [2,4,5,6,8],\n",
    "              \"bootstrap\": [True, False],\n",
    "                'max_depth':[None,5,10,15,20,30,50,70],\n",
    "                'min_samples_leaf':[1,2,5,10,15,20], \n",
    "                'min_samples_split':[2,5,10,15,20]\n",
    "                  }"
   ]
  },
  {
   "cell_type": "code",
   "execution_count": 19,
   "metadata": {},
   "outputs": [],
   "source": [
    "reg=RandomForestRegressor()"
   ]
  },
  {
   "cell_type": "code",
   "execution_count": 20,
   "metadata": {},
   "outputs": [
    {
     "name": "stdout",
     "output_type": "stream",
     "text": [
      "Fitting 10 folds for each of 10 candidates, totalling 100 fits\n"
     ]
    },
    {
     "name": "stderr",
     "output_type": "stream",
     "text": [
      "[Parallel(n_jobs=-1)]: Using backend LokyBackend with 4 concurrent workers.\n",
      "[Parallel(n_jobs=-1)]: Done   1 tasks      | elapsed:    0.0s\n",
      "[Parallel(n_jobs=-1)]: Batch computation too fast (0.1387s.) Setting batch_size=2.\n",
      "[Parallel(n_jobs=-1)]: Done   2 tasks      | elapsed:    0.1s\n",
      "[Parallel(n_jobs=-1)]: Done   3 tasks      | elapsed:    0.1s\n",
      "[Parallel(n_jobs=-1)]: Done   4 tasks      | elapsed:    0.1s\n",
      "[Parallel(n_jobs=-1)]: Done   5 tasks      | elapsed:    0.2s\n",
      "[Parallel(n_jobs=-1)]: Done   6 tasks      | elapsed:    0.2s\n",
      "[Parallel(n_jobs=-1)]: Done   7 tasks      | elapsed:    0.2s\n",
      "[Parallel(n_jobs=-1)]: Done   8 tasks      | elapsed:    0.2s\n",
      "[Parallel(n_jobs=-1)]: Done  10 tasks      | elapsed:    0.4s\n",
      "[Parallel(n_jobs=-1)]: Done  12 tasks      | elapsed:    1.7s\n",
      "[Parallel(n_jobs=-1)]: Done  14 tasks      | elapsed:    1.7s\n",
      "[Parallel(n_jobs=-1)]: Done  16 tasks      | elapsed:    1.7s\n",
      "[Parallel(n_jobs=-1)]: Done  18 tasks      | elapsed:    1.9s\n",
      "[Parallel(n_jobs=-1)]: Done  20 tasks      | elapsed:    2.1s\n",
      "[Parallel(n_jobs=-1)]: Done  22 tasks      | elapsed:    2.1s\n",
      "[Parallel(n_jobs=-1)]: Done  24 tasks      | elapsed:    2.3s\n",
      "[Parallel(n_jobs=-1)]: Done  26 tasks      | elapsed:    2.5s\n",
      "[Parallel(n_jobs=-1)]: Done  28 tasks      | elapsed:    2.5s\n",
      "[Parallel(n_jobs=-1)]: Done  30 tasks      | elapsed:    3.3s\n",
      "[Parallel(n_jobs=-1)]: Done  32 tasks      | elapsed:    3.8s\n",
      "[Parallel(n_jobs=-1)]: Done  34 tasks      | elapsed:    3.9s\n",
      "[Parallel(n_jobs=-1)]: Done  36 tasks      | elapsed:    4.0s\n",
      "[Parallel(n_jobs=-1)]: Done  38 tasks      | elapsed:    4.5s\n",
      "[Parallel(n_jobs=-1)]: Done  40 tasks      | elapsed:    4.6s\n",
      "[Parallel(n_jobs=-1)]: Done  42 tasks      | elapsed:    4.8s\n",
      "[Parallel(n_jobs=-1)]: Batch computation too slow (2.0582s.) Setting batch_size=1.\n",
      "[Parallel(n_jobs=-1)]: Done  44 tasks      | elapsed:    5.3s\n",
      "[Parallel(n_jobs=-1)]: Done  46 tasks      | elapsed:    5.3s\n",
      "[Parallel(n_jobs=-1)]: Done  48 tasks      | elapsed:    5.4s\n",
      "[Parallel(n_jobs=-1)]: Done  50 tasks      | elapsed:    5.5s\n",
      "[Parallel(n_jobs=-1)]: Done  51 tasks      | elapsed:    6.2s\n",
      "[Parallel(n_jobs=-1)]: Done  53 tasks      | elapsed:    6.7s\n",
      "[Parallel(n_jobs=-1)]: Done  55 tasks      | elapsed:    6.7s\n",
      "[Parallel(n_jobs=-1)]: Done  57 tasks      | elapsed:    6.8s\n",
      "[Parallel(n_jobs=-1)]: Done  58 tasks      | elapsed:    7.0s\n",
      "[Parallel(n_jobs=-1)]: Done  59 tasks      | elapsed:    7.0s\n",
      "[Parallel(n_jobs=-1)]: Done  60 tasks      | elapsed:    7.1s\n",
      "[Parallel(n_jobs=-1)]: Done  61 tasks      | elapsed:    7.2s\n",
      "[Parallel(n_jobs=-1)]: Done  62 tasks      | elapsed:    7.3s\n",
      "[Parallel(n_jobs=-1)]: Done  63 tasks      | elapsed:    7.4s\n",
      "[Parallel(n_jobs=-1)]: Done  64 tasks      | elapsed:    7.4s\n",
      "[Parallel(n_jobs=-1)]: Done  65 tasks      | elapsed:    7.4s\n",
      "[Parallel(n_jobs=-1)]: Done  66 tasks      | elapsed:    7.5s\n",
      "[Parallel(n_jobs=-1)]: Done  67 tasks      | elapsed:    7.6s\n",
      "[Parallel(n_jobs=-1)]: Done  68 tasks      | elapsed:    7.6s\n",
      "[Parallel(n_jobs=-1)]: Done  69 tasks      | elapsed:    7.6s\n",
      "[Parallel(n_jobs=-1)]: Done  70 tasks      | elapsed:    7.7s\n",
      "[Parallel(n_jobs=-1)]: Done  71 tasks      | elapsed:    9.1s\n",
      "[Parallel(n_jobs=-1)]: Done  72 tasks      | elapsed:    9.1s\n",
      "[Parallel(n_jobs=-1)]: Done  73 tasks      | elapsed:    9.2s\n",
      "[Parallel(n_jobs=-1)]: Done  74 tasks      | elapsed:    9.4s\n",
      "[Parallel(n_jobs=-1)]: Done  75 tasks      | elapsed:   11.0s\n",
      "[Parallel(n_jobs=-1)]: Done  76 tasks      | elapsed:   11.0s\n",
      "[Parallel(n_jobs=-1)]: Done  77 tasks      | elapsed:   11.1s\n",
      "[Parallel(n_jobs=-1)]: Done  78 tasks      | elapsed:   11.2s\n",
      "[Parallel(n_jobs=-1)]: Done  79 tasks      | elapsed:   11.7s\n",
      "[Parallel(n_jobs=-1)]: Done  80 tasks      | elapsed:   11.8s\n",
      "[Parallel(n_jobs=-1)]: Done  81 tasks      | elapsed:   12.4s\n",
      "[Parallel(n_jobs=-1)]: Done  82 tasks      | elapsed:   12.5s\n",
      "[Parallel(n_jobs=-1)]: Done  83 tasks      | elapsed:   12.6s\n",
      "[Parallel(n_jobs=-1)]: Done  84 tasks      | elapsed:   12.7s\n",
      "[Parallel(n_jobs=-1)]: Done  85 tasks      | elapsed:   13.0s\n",
      "[Parallel(n_jobs=-1)]: Done  86 tasks      | elapsed:   13.1s\n",
      "[Parallel(n_jobs=-1)]: Done  87 tasks      | elapsed:   13.3s\n",
      "[Parallel(n_jobs=-1)]: Done  88 tasks      | elapsed:   13.3s\n",
      "[Parallel(n_jobs=-1)]: Done  89 tasks      | elapsed:   13.6s\n",
      "[Parallel(n_jobs=-1)]: Done  90 tasks      | elapsed:   13.7s\n",
      "[Parallel(n_jobs=-1)]: Done  91 tasks      | elapsed:   13.8s\n",
      "[Parallel(n_jobs=-1)]: Done  92 tasks      | elapsed:   13.9s\n",
      "[Parallel(n_jobs=-1)]: Done  93 tasks      | elapsed:   14.2s\n",
      "[Parallel(n_jobs=-1)]: Done 100 out of 100 | elapsed:   15.1s finished\n"
     ]
    },
    {
     "data": {
      "text/plain": [
       "RandomizedSearchCV(cv=10, error_score=nan,\n",
       "                   estimator=RandomForestRegressor(bootstrap=True,\n",
       "                                                   ccp_alpha=0.0,\n",
       "                                                   criterion='mse',\n",
       "                                                   max_depth=None,\n",
       "                                                   max_features='auto',\n",
       "                                                   max_leaf_nodes=None,\n",
       "                                                   max_samples=None,\n",
       "                                                   min_impurity_decrease=0.0,\n",
       "                                                   min_impurity_split=None,\n",
       "                                                   min_samples_leaf=1,\n",
       "                                                   min_samples_split=2,\n",
       "                                                   min_weight_fraction_leaf=0.0,\n",
       "                                                   n_estimators=100,\n",
       "                                                   n_jobs=None, oob_score=Fal...\n",
       "                   iid='deprecated', n_iter=10, n_jobs=-1,\n",
       "                   param_distributions={'bootstrap': [True, False],\n",
       "                                        'max_depth': [None, 5, 10, 15, 20, 30,\n",
       "                                                      50, 70],\n",
       "                                        'max_features': [2, 4, 5, 6, 8],\n",
       "                                        'min_samples_leaf': [1, 2, 5, 10, 15,\n",
       "                                                             20],\n",
       "                                        'min_samples_split': [2, 5, 10, 15, 20],\n",
       "                                        'n_estimators': [50, 100, 200]},\n",
       "                   pre_dispatch='2*n_jobs', random_state=None, refit=True,\n",
       "                   return_train_score=False, scoring='neg_mean_absolute_error',\n",
       "                   verbose=20)"
      ]
     },
     "execution_count": 20,
     "metadata": {},
     "output_type": "execute_result"
    }
   ],
   "source": [
    "n_iter_search = 10\n",
    "random_search=RandomizedSearchCV(reg,\n",
    "                                 cv=10,\n",
    "                                 param_distributions=param_dist,\n",
    "                                 scoring='neg_mean_absolute_error',\n",
    "                                 n_iter=10,n_jobs=-1,verbose=20\n",
    "                                    )\n",
    "\n",
    "random_search.fit(x_train,y_train)"
   ]
  },
  {
   "cell_type": "code",
   "execution_count": 21,
   "metadata": {},
   "outputs": [
    {
     "name": "stdout",
     "output_type": "stream",
     "text": [
      "Model with rank: 1\n",
      "Mean validation score: -2479.32841 (std: 238.55512)\n",
      "Parameters: {'n_estimators': 200, 'min_samples_split': 10, 'min_samples_leaf': 5, 'max_features': 5, 'max_depth': 50, 'bootstrap': False}\n",
      "\n",
      "Model with rank: 2\n",
      "Mean validation score: -2500.37724 (std: 279.81446)\n",
      "Parameters: {'n_estimators': 200, 'min_samples_split': 5, 'min_samples_leaf': 1, 'max_features': 6, 'max_depth': 5, 'bootstrap': True}\n",
      "\n",
      "Model with rank: 3\n",
      "Mean validation score: -2525.07120 (std: 257.53538)\n",
      "Parameters: {'n_estimators': 200, 'min_samples_split': 15, 'min_samples_leaf': 5, 'max_features': 6, 'max_depth': 70, 'bootstrap': False}\n",
      "\n",
      "Model with rank: 4\n",
      "Mean validation score: -2532.19119 (std: 256.33907)\n",
      "Parameters: {'n_estimators': 50, 'min_samples_split': 20, 'min_samples_leaf': 5, 'max_features': 5, 'max_depth': 10, 'bootstrap': True}\n",
      "\n",
      "Model with rank: 5\n",
      "Mean validation score: -2578.54330 (std: 301.39852)\n",
      "Parameters: {'n_estimators': 50, 'min_samples_split': 15, 'min_samples_leaf': 20, 'max_features': 8, 'max_depth': 50, 'bootstrap': True}\n",
      "\n"
     ]
    }
   ],
   "source": [
    "report(random_search.cv_results_,5)"
   ]
  },
  {
   "cell_type": "markdown",
   "metadata": {},
   "source": [
    "## Extra Trees"
   ]
  },
  {
   "cell_type": "code",
   "execution_count": 22,
   "metadata": {},
   "outputs": [],
   "source": [
    "param_dist = {\"n_estimators\":[50,100,200],\n",
    "              \"max_features\": [2,4,5,6,8],\n",
    "              \"bootstrap\": [True, False],\n",
    "                'max_depth':[None,5,10,15,20,30,50,70],\n",
    "                'min_samples_leaf':[1,2,5,10,15,20], \n",
    "                'min_samples_split':[2,5,10,15,20]\n",
    "                  }"
   ]
  },
  {
   "cell_type": "code",
   "execution_count": 23,
   "metadata": {},
   "outputs": [],
   "source": [
    "reg=ExtraTreesRegressor()"
   ]
  },
  {
   "cell_type": "code",
   "execution_count": 24,
   "metadata": {},
   "outputs": [
    {
     "name": "stdout",
     "output_type": "stream",
     "text": [
      "Fitting 10 folds for each of 10 candidates, totalling 100 fits\n"
     ]
    },
    {
     "name": "stderr",
     "output_type": "stream",
     "text": [
      "[Parallel(n_jobs=-1)]: Using backend LokyBackend with 4 concurrent workers.\n",
      "[Parallel(n_jobs=-1)]: Done   1 tasks      | elapsed:    0.6s\n",
      "[Parallel(n_jobs=-1)]: Done   2 tasks      | elapsed:    0.6s\n",
      "[Parallel(n_jobs=-1)]: Done   3 tasks      | elapsed:    0.6s\n",
      "[Parallel(n_jobs=-1)]: Done   4 tasks      | elapsed:    0.7s\n",
      "[Parallel(n_jobs=-1)]: Done   5 tasks      | elapsed:    1.3s\n",
      "[Parallel(n_jobs=-1)]: Done   6 tasks      | elapsed:    1.3s\n",
      "[Parallel(n_jobs=-1)]: Done   7 tasks      | elapsed:    1.3s\n",
      "[Parallel(n_jobs=-1)]: Done   8 tasks      | elapsed:    1.4s\n",
      "[Parallel(n_jobs=-1)]: Done   9 tasks      | elapsed:    1.9s\n",
      "[Parallel(n_jobs=-1)]: Done  10 tasks      | elapsed:    1.9s\n",
      "[Parallel(n_jobs=-1)]: Done  11 tasks      | elapsed:    2.0s\n",
      "[Parallel(n_jobs=-1)]: Done  12 tasks      | elapsed:    2.0s\n",
      "[Parallel(n_jobs=-1)]: Done  13 tasks      | elapsed:    2.4s\n",
      "[Parallel(n_jobs=-1)]: Done  14 tasks      | elapsed:    2.4s\n",
      "[Parallel(n_jobs=-1)]: Done  15 tasks      | elapsed:    2.5s\n",
      "[Parallel(n_jobs=-1)]: Done  16 tasks      | elapsed:    2.5s\n",
      "[Parallel(n_jobs=-1)]: Done  17 tasks      | elapsed:    2.9s\n",
      "[Parallel(n_jobs=-1)]: Done  18 tasks      | elapsed:    2.9s\n",
      "[Parallel(n_jobs=-1)]: Done  19 tasks      | elapsed:    3.0s\n",
      "[Parallel(n_jobs=-1)]: Done  20 tasks      | elapsed:    3.0s\n",
      "[Parallel(n_jobs=-1)]: Done  21 tasks      | elapsed:    3.4s\n",
      "[Parallel(n_jobs=-1)]: Done  22 tasks      | elapsed:    3.4s\n",
      "[Parallel(n_jobs=-1)]: Done  23 tasks      | elapsed:    3.5s\n",
      "[Parallel(n_jobs=-1)]: Done  24 tasks      | elapsed:    3.6s\n",
      "[Parallel(n_jobs=-1)]: Done  25 tasks      | elapsed:    4.0s\n",
      "[Parallel(n_jobs=-1)]: Done  26 tasks      | elapsed:    4.0s\n",
      "[Parallel(n_jobs=-1)]: Done  27 tasks      | elapsed:    4.2s\n",
      "[Parallel(n_jobs=-1)]: Done  28 tasks      | elapsed:    4.2s\n",
      "[Parallel(n_jobs=-1)]: Done  29 tasks      | elapsed:    4.5s\n",
      "[Parallel(n_jobs=-1)]: Done  30 tasks      | elapsed:    4.5s\n",
      "[Parallel(n_jobs=-1)]: Done  31 tasks      | elapsed:    4.7s\n",
      "[Parallel(n_jobs=-1)]: Done  32 tasks      | elapsed:    4.7s\n",
      "[Parallel(n_jobs=-1)]: Done  33 tasks      | elapsed:    4.7s\n",
      "[Parallel(n_jobs=-1)]: Done  34 tasks      | elapsed:    4.8s\n",
      "[Parallel(n_jobs=-1)]: Done  35 tasks      | elapsed:    4.9s\n",
      "[Parallel(n_jobs=-1)]: Done  36 tasks      | elapsed:    4.9s\n",
      "[Parallel(n_jobs=-1)]: Done  37 tasks      | elapsed:    4.9s\n",
      "[Parallel(n_jobs=-1)]: Done  38 tasks      | elapsed:    5.0s\n",
      "[Parallel(n_jobs=-1)]: Done  39 tasks      | elapsed:    5.1s\n",
      "[Parallel(n_jobs=-1)]: Done  40 tasks      | elapsed:    5.1s\n",
      "[Parallel(n_jobs=-1)]: Done  41 tasks      | elapsed:    5.6s\n",
      "[Parallel(n_jobs=-1)]: Done  42 tasks      | elapsed:    5.6s\n",
      "[Parallel(n_jobs=-1)]: Done  43 tasks      | elapsed:    5.7s\n",
      "[Parallel(n_jobs=-1)]: Done  44 tasks      | elapsed:    5.7s\n",
      "[Parallel(n_jobs=-1)]: Done  45 tasks      | elapsed:    6.1s\n",
      "[Parallel(n_jobs=-1)]: Done  46 tasks      | elapsed:    6.2s\n",
      "[Parallel(n_jobs=-1)]: Done  47 tasks      | elapsed:    6.3s\n",
      "[Parallel(n_jobs=-1)]: Done  48 tasks      | elapsed:    6.3s\n",
      "[Parallel(n_jobs=-1)]: Done  49 tasks      | elapsed:    6.5s\n",
      "[Parallel(n_jobs=-1)]: Done  50 tasks      | elapsed:    6.5s\n",
      "[Parallel(n_jobs=-1)]: Done  51 tasks      | elapsed:    6.7s\n",
      "[Parallel(n_jobs=-1)]: Done  52 tasks      | elapsed:    6.7s\n",
      "[Parallel(n_jobs=-1)]: Done  53 tasks      | elapsed:    6.8s\n",
      "[Parallel(n_jobs=-1)]: Done  54 tasks      | elapsed:    6.8s\n",
      "[Parallel(n_jobs=-1)]: Done  55 tasks      | elapsed:    6.9s\n",
      "[Parallel(n_jobs=-1)]: Done  56 tasks      | elapsed:    6.9s\n",
      "[Parallel(n_jobs=-1)]: Done  57 tasks      | elapsed:    7.0s\n",
      "[Parallel(n_jobs=-1)]: Done  58 tasks      | elapsed:    7.0s\n",
      "[Parallel(n_jobs=-1)]: Done  59 tasks      | elapsed:    7.0s\n",
      "[Parallel(n_jobs=-1)]: Done  60 tasks      | elapsed:    7.1s\n",
      "[Parallel(n_jobs=-1)]: Done  61 tasks      | elapsed:    7.2s\n",
      "[Parallel(n_jobs=-1)]: Done  62 tasks      | elapsed:    7.2s\n",
      "[Parallel(n_jobs=-1)]: Done  63 tasks      | elapsed:    7.3s\n",
      "[Parallel(n_jobs=-1)]: Done  64 tasks      | elapsed:    7.3s\n",
      "[Parallel(n_jobs=-1)]: Done  65 tasks      | elapsed:    7.4s\n",
      "[Parallel(n_jobs=-1)]: Done  66 tasks      | elapsed:    7.4s\n",
      "[Parallel(n_jobs=-1)]: Done  67 tasks      | elapsed:    7.5s\n",
      "[Parallel(n_jobs=-1)]: Done  68 tasks      | elapsed:    7.5s\n",
      "[Parallel(n_jobs=-1)]: Done  69 tasks      | elapsed:    7.5s\n",
      "[Parallel(n_jobs=-1)]: Done  70 tasks      | elapsed:    7.6s\n",
      "[Parallel(n_jobs=-1)]: Done  71 tasks      | elapsed:    7.8s\n",
      "[Parallel(n_jobs=-1)]: Done  72 tasks      | elapsed:    7.9s\n",
      "[Parallel(n_jobs=-1)]: Done  73 tasks      | elapsed:    7.9s\n",
      "[Parallel(n_jobs=-1)]: Done  74 tasks      | elapsed:    8.0s\n",
      "[Parallel(n_jobs=-1)]: Done  75 tasks      | elapsed:    8.2s\n",
      "[Parallel(n_jobs=-1)]: Done  76 tasks      | elapsed:    8.2s\n",
      "[Parallel(n_jobs=-1)]: Done  77 tasks      | elapsed:    8.2s\n",
      "[Parallel(n_jobs=-1)]: Done  78 tasks      | elapsed:    8.3s\n",
      "[Parallel(n_jobs=-1)]: Done  79 tasks      | elapsed:    8.4s\n",
      "[Parallel(n_jobs=-1)]: Done  80 tasks      | elapsed:    8.5s\n",
      "[Parallel(n_jobs=-1)]: Done  81 tasks      | elapsed:    8.5s\n",
      "[Parallel(n_jobs=-1)]: Done  82 tasks      | elapsed:    8.6s\n",
      "[Parallel(n_jobs=-1)]: Done  83 tasks      | elapsed:    8.6s\n",
      "[Parallel(n_jobs=-1)]: Done  84 tasks      | elapsed:    8.6s\n",
      "[Parallel(n_jobs=-1)]: Done  85 tasks      | elapsed:    8.7s\n",
      "[Parallel(n_jobs=-1)]: Done  86 tasks      | elapsed:    8.8s\n",
      "[Parallel(n_jobs=-1)]: Done  87 tasks      | elapsed:    8.8s\n",
      "[Parallel(n_jobs=-1)]: Done  88 tasks      | elapsed:    8.8s\n",
      "[Parallel(n_jobs=-1)]: Done  89 tasks      | elapsed:    8.9s\n",
      "[Parallel(n_jobs=-1)]: Done  90 tasks      | elapsed:    8.9s\n",
      "[Parallel(n_jobs=-1)]: Done  91 tasks      | elapsed:    9.1s\n",
      "[Parallel(n_jobs=-1)]: Done  92 tasks      | elapsed:    9.1s\n",
      "[Parallel(n_jobs=-1)]: Done  93 tasks      | elapsed:    9.2s\n",
      "[Parallel(n_jobs=-1)]: Done 100 out of 100 | elapsed:    9.6s finished\n"
     ]
    },
    {
     "data": {
      "text/plain": [
       "RandomizedSearchCV(cv=10, error_score=nan,\n",
       "                   estimator=ExtraTreesRegressor(bootstrap=False, ccp_alpha=0.0,\n",
       "                                                 criterion='mse',\n",
       "                                                 max_depth=None,\n",
       "                                                 max_features='auto',\n",
       "                                                 max_leaf_nodes=None,\n",
       "                                                 max_samples=None,\n",
       "                                                 min_impurity_decrease=0.0,\n",
       "                                                 min_impurity_split=None,\n",
       "                                                 min_samples_leaf=1,\n",
       "                                                 min_samples_split=2,\n",
       "                                                 min_weight_fraction_leaf=0.0,\n",
       "                                                 n_estimators=100, n_jobs=None,\n",
       "                                                 oob_score=Fals...\n",
       "                   iid='deprecated', n_iter=10, n_jobs=-1,\n",
       "                   param_distributions={'bootstrap': [True, False],\n",
       "                                        'max_depth': [None, 5, 10, 15, 20, 30,\n",
       "                                                      50, 70],\n",
       "                                        'max_features': [2, 4, 5, 6, 8],\n",
       "                                        'min_samples_leaf': [1, 2, 5, 10, 15,\n",
       "                                                             20],\n",
       "                                        'min_samples_split': [2, 5, 10, 15, 20],\n",
       "                                        'n_estimators': [50, 100, 200]},\n",
       "                   pre_dispatch='2*n_jobs', random_state=None, refit=True,\n",
       "                   return_train_score=False, scoring='neg_mean_absolute_error',\n",
       "                   verbose=20)"
      ]
     },
     "execution_count": 24,
     "metadata": {},
     "output_type": "execute_result"
    }
   ],
   "source": [
    "n_iter_search = 10\n",
    "random_search=RandomizedSearchCV(reg,\n",
    "                                 cv=10,\n",
    "                                 param_distributions=param_dist,\n",
    "                                 scoring='neg_mean_absolute_error',\n",
    "                                 n_iter=10,n_jobs=-1,verbose=20\n",
    "                                    )\n",
    "\n",
    "random_search.fit(x_train,y_train)"
   ]
  },
  {
   "cell_type": "code",
   "execution_count": 25,
   "metadata": {},
   "outputs": [
    {
     "name": "stdout",
     "output_type": "stream",
     "text": [
      "Model with rank: 1\n",
      "Mean validation score: -2538.18405 (std: 209.39171)\n",
      "Parameters: {'n_estimators': 200, 'min_samples_split': 5, 'min_samples_leaf': 1, 'max_features': 8, 'max_depth': 10, 'bootstrap': False}\n",
      "\n",
      "Model with rank: 2\n",
      "Mean validation score: -2688.74050 (std: 207.25229)\n",
      "Parameters: {'n_estimators': 50, 'min_samples_split': 10, 'min_samples_leaf': 2, 'max_features': 6, 'max_depth': None, 'bootstrap': True}\n",
      "\n",
      "Model with rank: 3\n",
      "Mean validation score: -2859.63749 (std: 266.50254)\n",
      "Parameters: {'n_estimators': 50, 'min_samples_split': 15, 'min_samples_leaf': 1, 'max_features': 5, 'max_depth': 50, 'bootstrap': True}\n",
      "\n",
      "Model with rank: 4\n",
      "Mean validation score: -2935.80091 (std: 243.24167)\n",
      "Parameters: {'n_estimators': 100, 'min_samples_split': 2, 'min_samples_leaf': 2, 'max_features': 4, 'max_depth': 30, 'bootstrap': True}\n",
      "\n",
      "Model with rank: 5\n",
      "Mean validation score: -2963.71322 (std: 250.25544)\n",
      "Parameters: {'n_estimators': 50, 'min_samples_split': 10, 'min_samples_leaf': 1, 'max_features': 4, 'max_depth': 50, 'bootstrap': True}\n",
      "\n"
     ]
    }
   ],
   "source": [
    "report(random_search.cv_results_,5)"
   ]
  },
  {
   "cell_type": "markdown",
   "metadata": {},
   "source": [
    "## Feature Importance for extratrees \n",
    "#### can be doen for other algos the same as well"
   ]
  },
  {
   "cell_type": "code",
   "execution_count": 26,
   "metadata": {},
   "outputs": [
    {
     "data": {
      "text/plain": [
       "ExtraTreesRegressor(bootstrap=False, ccp_alpha=0.0, criterion='mse',\n",
       "                    max_depth=10, max_features=8, max_leaf_nodes=None,\n",
       "                    max_samples=None, min_impurity_decrease=0.0,\n",
       "                    min_impurity_split=None, min_samples_leaf=1,\n",
       "                    min_samples_split=5, min_weight_fraction_leaf=0.0,\n",
       "                    n_estimators=200, n_jobs=None, oob_score=False,\n",
       "                    random_state=None, verbose=0, warm_start=False)"
      ]
     },
     "execution_count": 26,
     "metadata": {},
     "output_type": "execute_result"
    }
   ],
   "source": [
    "et=random_search.best_estimator_\n",
    "et.fit(x_train,y_train)"
   ]
  },
  {
   "cell_type": "code",
   "execution_count": 27,
   "metadata": {},
   "outputs": [
    {
     "data": {
      "text/html": [
       "<div>\n",
       "<style scoped>\n",
       "    .dataframe tbody tr th:only-of-type {\n",
       "        vertical-align: middle;\n",
       "    }\n",
       "\n",
       "    .dataframe tbody tr th {\n",
       "        vertical-align: top;\n",
       "    }\n",
       "\n",
       "    .dataframe thead th {\n",
       "        text-align: right;\n",
       "    }\n",
       "</style>\n",
       "<table border=\"1\" class=\"dataframe\">\n",
       "  <thead>\n",
       "    <tr style=\"text-align: right;\">\n",
       "      <th></th>\n",
       "      <th>features</th>\n",
       "      <th>importance</th>\n",
       "    </tr>\n",
       "  </thead>\n",
       "  <tbody>\n",
       "    <tr>\n",
       "      <th>4</th>\n",
       "      <td>cat_pipe__smoker_no</td>\n",
       "      <td>0.681827</td>\n",
       "    </tr>\n",
       "    <tr>\n",
       "      <th>6</th>\n",
       "      <td>num_pipe__bmi</td>\n",
       "      <td>0.163509</td>\n",
       "    </tr>\n",
       "    <tr>\n",
       "      <th>5</th>\n",
       "      <td>num_pipe__age</td>\n",
       "      <td>0.119714</td>\n",
       "    </tr>\n",
       "    <tr>\n",
       "      <th>7</th>\n",
       "      <td>num_pipe__children</td>\n",
       "      <td>0.015097</td>\n",
       "    </tr>\n",
       "    <tr>\n",
       "      <th>0</th>\n",
       "      <td>cat_pipe__sex_male</td>\n",
       "      <td>0.005395</td>\n",
       "    </tr>\n",
       "    <tr>\n",
       "      <th>1</th>\n",
       "      <td>cat_pipe__region_southeast</td>\n",
       "      <td>0.005232</td>\n",
       "    </tr>\n",
       "    <tr>\n",
       "      <th>3</th>\n",
       "      <td>cat_pipe__region_northwest</td>\n",
       "      <td>0.005145</td>\n",
       "    </tr>\n",
       "    <tr>\n",
       "      <th>2</th>\n",
       "      <td>cat_pipe__region_southwest</td>\n",
       "      <td>0.004079</td>\n",
       "    </tr>\n",
       "  </tbody>\n",
       "</table>\n",
       "</div>"
      ],
      "text/plain": [
       "                     features  importance\n",
       "4         cat_pipe__smoker_no    0.681827\n",
       "6               num_pipe__bmi    0.163509\n",
       "5               num_pipe__age    0.119714\n",
       "7          num_pipe__children    0.015097\n",
       "0          cat_pipe__sex_male    0.005395\n",
       "1  cat_pipe__region_southeast    0.005232\n",
       "3  cat_pipe__region_northwest    0.005145\n",
       "2  cat_pipe__region_southwest    0.004079"
      ]
     },
     "execution_count": 27,
     "metadata": {},
     "output_type": "execute_result"
    }
   ],
   "source": [
    "feat_imp_df=pd.DataFrame({'features':x_train.columns,'importance':et.feature_importances_})\n",
    "\n",
    "feat_imp_df.sort_values('importance',ascending=False)"
   ]
  },
  {
   "cell_type": "markdown",
   "metadata": {},
   "source": [
    "## Partial Dependence Plot for Extratrees\n",
    "\n"
   ]
  },
  {
   "cell_type": "code",
   "execution_count": 28,
   "metadata": {},
   "outputs": [],
   "source": [
    "%matplotlib inline"
   ]
  },
  {
   "cell_type": "code",
   "execution_count": 29,
   "metadata": {},
   "outputs": [],
   "source": [
    "var_name='num_pipe__bmi'\n",
    "\n",
    "preds=et.predict(x_train)\n"
   ]
  },
  {
   "cell_type": "code",
   "execution_count": 30,
   "metadata": {},
   "outputs": [],
   "source": [
    "var_data=pd.DataFrame({'var':x_train[var_name],'response':preds})"
   ]
  },
  {
   "cell_type": "code",
   "execution_count": 31,
   "metadata": {},
   "outputs": [
    {
     "data": {
      "text/plain": [
       "<seaborn.axisgrid.FacetGrid at 0x1dc5cbb7648>"
      ]
     },
     "execution_count": 31,
     "metadata": {},
     "output_type": "execute_result"
    },
    {
     "data": {
      "image/png": "[encoded data removed]",
      "text/plain": [
       "<Figure size 360x360 with 1 Axes>"
      ]
     },
     "metadata": {
      "needs_background": "light"
     },
     "output_type": "display_data"
    }
   ],
   "source": [
    "import seaborn as sns\n",
    "\n",
    "sns.lmplot(x='var',y='response',data=var_data,fit_reg=False)"
   ]
  },
  {
   "cell_type": "code",
   "execution_count": 32,
   "metadata": {},
   "outputs": [],
   "source": [
    "import statsmodels.api as sm\n",
    "smooth_data=sm.nonparametric.lowess(var_data['response'],var_data['var'])\n",
    "\n",
    "# smooth_data"
   ]
  },
  {
   "cell_type": "code",
   "execution_count": 33,
   "metadata": {},
   "outputs": [
    {
     "data": {
      "text/plain": [
       "<seaborn.axisgrid.FacetGrid at 0x1dc5ed94408>"
      ]
     },
     "execution_count": 33,
     "metadata": {},
     "output_type": "execute_result"
    },
    {
     "data": {
      "image/png": "[encoded data removed]",
      "text/plain": [
       "<Figure size 360x360 with 1 Axes>"
      ]
     },
     "metadata": {
      "needs_background": "light"
     },
     "output_type": "display_data"
    }
   ],
   "source": [
    "df=pd.DataFrame({'response':smooth_data[:,1],var_name:smooth_data[:,0]})\n",
    "\n",
    "sns.lmplot(x=var_name,y='response',data=df,fit_reg=False)"
   ]
  }
 ],
 "metadata": {
  "kernelspec": {
   "display_name": "Python 3",
   "language": "python",
   "name": "python3"
  },
  "language_info": {
   "codemirror_mode": {
    "name": "ipython",
    "version": 3
   },
   "file_extension": ".py",
   "mimetype": "text/x-python",
   "name": "python",
   "nbconvert_exporter": "python",
   "pygments_lexer": "ipython3",
   "version": "3.7.6"
  }
 },
 "nbformat": 4,
 "nbformat_minor": 2
}
