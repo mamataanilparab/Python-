{
 "cells": [
  {
   "cell_type": "markdown",
   "metadata": {},
   "source": [
    "# Decision Trees Based Methods Classification Case"
   ]
  },
  {
   "cell_type": "code",
   "execution_count": 1,
   "metadata": {},
   "outputs": [],
   "source": [
    "import pandas as pd\n",
    "import numpy as np\n",
    "from sklearn import tree\n",
    "import numpy as np\n",
    "from mypipes import *\n",
    "%matplotlib inline"
   ]
  },
  {
   "cell_type": "code",
   "execution_count": 2,
   "metadata": {},
   "outputs": [],
   "source": [
    "file=pd.read_csv(\"C:\\\\Users\\\\Larry Williams\\\\Desktop\\\\Mamata\\\\Edvancer\\\\data\\\\data\\\\census_income.csv\")"
   ]
  },
  {
   "cell_type": "code",
   "execution_count": 3,
   "metadata": {},
   "outputs": [
    {
     "data": {
      "text/html": [
       "<div>\n",
       "<style scoped>\n",
       "    .dataframe tbody tr th:only-of-type {\n",
       "        vertical-align: middle;\n",
       "    }\n",
       "\n",
       "    .dataframe tbody tr th {\n",
       "        vertical-align: top;\n",
       "    }\n",
       "\n",
       "    .dataframe thead th {\n",
       "        text-align: right;\n",
       "    }\n",
       "</style>\n",
       "<table border=\"1\" class=\"dataframe\">\n",
       "  <thead>\n",
       "    <tr style=\"text-align: right;\">\n",
       "      <th></th>\n",
       "      <th>age</th>\n",
       "      <th>workclass</th>\n",
       "      <th>fnlwgt</th>\n",
       "      <th>education</th>\n",
       "      <th>education.num</th>\n",
       "      <th>marital.status</th>\n",
       "      <th>occupation</th>\n",
       "      <th>relationship</th>\n",
       "      <th>race</th>\n",
       "      <th>sex</th>\n",
       "      <th>capital.gain</th>\n",
       "      <th>capital.loss</th>\n",
       "      <th>hours.per.week</th>\n",
       "      <th>native.country</th>\n",
       "      <th>Y</th>\n",
       "    </tr>\n",
       "  </thead>\n",
       "  <tbody>\n",
       "    <tr>\n",
       "      <th>0</th>\n",
       "      <td>39</td>\n",
       "      <td>State-gov</td>\n",
       "      <td>77516</td>\n",
       "      <td>Bachelors</td>\n",
       "      <td>13</td>\n",
       "      <td>Never-married</td>\n",
       "      <td>Adm-clerical</td>\n",
       "      <td>Not-in-family</td>\n",
       "      <td>White</td>\n",
       "      <td>Male</td>\n",
       "      <td>2174</td>\n",
       "      <td>0</td>\n",
       "      <td>40</td>\n",
       "      <td>United-States</td>\n",
       "      <td>&lt;=50K</td>\n",
       "    </tr>\n",
       "    <tr>\n",
       "      <th>1</th>\n",
       "      <td>50</td>\n",
       "      <td>Self-emp-not-inc</td>\n",
       "      <td>83311</td>\n",
       "      <td>Bachelors</td>\n",
       "      <td>13</td>\n",
       "      <td>Married-civ-spouse</td>\n",
       "      <td>Exec-managerial</td>\n",
       "      <td>Husband</td>\n",
       "      <td>White</td>\n",
       "      <td>Male</td>\n",
       "      <td>0</td>\n",
       "      <td>0</td>\n",
       "      <td>13</td>\n",
       "      <td>United-States</td>\n",
       "      <td>&lt;=50K</td>\n",
       "    </tr>\n",
       "    <tr>\n",
       "      <th>2</th>\n",
       "      <td>38</td>\n",
       "      <td>Private</td>\n",
       "      <td>215646</td>\n",
       "      <td>HS-grad</td>\n",
       "      <td>9</td>\n",
       "      <td>Divorced</td>\n",
       "      <td>Handlers-cleaners</td>\n",
       "      <td>Not-in-family</td>\n",
       "      <td>White</td>\n",
       "      <td>Male</td>\n",
       "      <td>0</td>\n",
       "      <td>0</td>\n",
       "      <td>40</td>\n",
       "      <td>United-States</td>\n",
       "      <td>&lt;=50K</td>\n",
       "    </tr>\n",
       "    <tr>\n",
       "      <th>3</th>\n",
       "      <td>53</td>\n",
       "      <td>Private</td>\n",
       "      <td>234721</td>\n",
       "      <td>11th</td>\n",
       "      <td>7</td>\n",
       "      <td>Married-civ-spouse</td>\n",
       "      <td>Handlers-cleaners</td>\n",
       "      <td>Husband</td>\n",
       "      <td>Black</td>\n",
       "      <td>Male</td>\n",
       "      <td>0</td>\n",
       "      <td>0</td>\n",
       "      <td>40</td>\n",
       "      <td>United-States</td>\n",
       "      <td>&lt;=50K</td>\n",
       "    </tr>\n",
       "    <tr>\n",
       "      <th>4</th>\n",
       "      <td>28</td>\n",
       "      <td>Private</td>\n",
       "      <td>338409</td>\n",
       "      <td>Bachelors</td>\n",
       "      <td>13</td>\n",
       "      <td>Married-civ-spouse</td>\n",
       "      <td>Prof-specialty</td>\n",
       "      <td>Wife</td>\n",
       "      <td>Black</td>\n",
       "      <td>Female</td>\n",
       "      <td>0</td>\n",
       "      <td>0</td>\n",
       "      <td>40</td>\n",
       "      <td>Cuba</td>\n",
       "      <td>&lt;=50K</td>\n",
       "    </tr>\n",
       "  </tbody>\n",
       "</table>\n",
       "</div>"
      ],
      "text/plain": [
       "   age          workclass  fnlwgt   education  education.num  \\\n",
       "0   39          State-gov   77516   Bachelors             13   \n",
       "1   50   Self-emp-not-inc   83311   Bachelors             13   \n",
       "2   38            Private  215646     HS-grad              9   \n",
       "3   53            Private  234721        11th              7   \n",
       "4   28            Private  338409   Bachelors             13   \n",
       "\n",
       "        marital.status          occupation    relationship    race      sex  \\\n",
       "0        Never-married        Adm-clerical   Not-in-family   White     Male   \n",
       "1   Married-civ-spouse     Exec-managerial         Husband   White     Male   \n",
       "2             Divorced   Handlers-cleaners   Not-in-family   White     Male   \n",
       "3   Married-civ-spouse   Handlers-cleaners         Husband   Black     Male   \n",
       "4   Married-civ-spouse      Prof-specialty            Wife   Black   Female   \n",
       "\n",
       "   capital.gain  capital.loss  hours.per.week  native.country       Y  \n",
       "0          2174             0              40   United-States   <=50K  \n",
       "1             0             0              13   United-States   <=50K  \n",
       "2             0             0              40   United-States   <=50K  \n",
       "3             0             0              40   United-States   <=50K  \n",
       "4             0             0              40            Cuba   <=50K  "
      ]
     },
     "execution_count": 3,
     "metadata": {},
     "output_type": "execute_result"
    }
   ],
   "source": [
    "file.head()"
   ]
  },
  {
   "cell_type": "code",
   "execution_count": 4,
   "metadata": {},
   "outputs": [
    {
     "data": {
      "text/plain": [
       " <=50K    24720\n",
       " >50K      7841\n",
       "Name: Y, dtype: int64"
      ]
     },
     "execution_count": 4,
     "metadata": {},
     "output_type": "execute_result"
    }
   ],
   "source": [
    "file['Y'].value_counts()"
   ]
  },
  {
   "cell_type": "code",
   "execution_count": 6,
   "metadata": {},
   "outputs": [],
   "source": [
    "cat_vars=list(file.select_dtypes(include=['object']).columns)"
   ]
  },
  {
   "cell_type": "code",
   "execution_count": 7,
   "metadata": {},
   "outputs": [
    {
     "data": {
      "text/plain": [
       "['workclass',\n",
       " 'education',\n",
       " 'marital.status',\n",
       " 'occupation',\n",
       " 'relationship',\n",
       " 'race',\n",
       " 'sex',\n",
       " 'native.country',\n",
       " 'Y']"
      ]
     },
     "execution_count": 7,
     "metadata": {},
     "output_type": "execute_result"
    }
   ],
   "source": [
    "cat_vars"
   ]
  },
  {
   "cell_type": "code",
   "execution_count": 8,
   "metadata": {},
   "outputs": [],
   "source": [
    "cat_vars=[_ for _ in cat_vars if _ not in ['Y','education']]"
   ]
  },
  {
   "cell_type": "code",
   "execution_count": 9,
   "metadata": {},
   "outputs": [
    {
     "data": {
      "text/plain": [
       "['workclass',\n",
       " 'marital.status',\n",
       " 'occupation',\n",
       " 'relationship',\n",
       " 'race',\n",
       " 'sex',\n",
       " 'native.country']"
      ]
     },
     "execution_count": 9,
     "metadata": {},
     "output_type": "execute_result"
    }
   ],
   "source": [
    "cat_vars"
   ]
  },
  {
   "cell_type": "code",
   "execution_count": 10,
   "metadata": {},
   "outputs": [],
   "source": [
    "num_vars=list(file.select_dtypes(exclude=['object']).columns)"
   ]
  },
  {
   "cell_type": "code",
   "execution_count": 11,
   "metadata": {},
   "outputs": [
    {
     "data": {
      "text/plain": [
       "['age',\n",
       " 'fnlwgt',\n",
       " 'education.num',\n",
       " 'capital.gain',\n",
       " 'capital.loss',\n",
       " 'hours.per.week']"
      ]
     },
     "execution_count": 11,
     "metadata": {},
     "output_type": "execute_result"
    }
   ],
   "source": [
    "num_vars"
   ]
  },
  {
   "cell_type": "code",
   "execution_count": 12,
   "metadata": {},
   "outputs": [
    {
     "data": {
      "text/plain": [
       "(32561, 15)"
      ]
     },
     "execution_count": 12,
     "metadata": {},
     "output_type": "execute_result"
    }
   ],
   "source": [
    "file.shape"
   ]
  },
  {
   "cell_type": "code",
   "execution_count": 13,
   "metadata": {},
   "outputs": [],
   "source": [
    "p1=pdPipeline([\n",
    "    ('cat_select',VarSelector(cat_vars)),\n",
    "    ('missing_trt',DataFrameImputer()),\n",
    "    ('create_dummies',get_dummies_Pipe(300))\n",
    "])\n",
    "\n",
    "p2=pdPipeline([\n",
    "    ('num_select',VarSelector(num_vars)),\n",
    "    ('missing_trt',DataFrameImputer())\n",
    "])\n",
    "\n",
    "data_pipe=FeatureUnion([\n",
    "    ('cat_pipe',p1),\n",
    "    ('num_pipe',p2)\n",
    "])"
   ]
  },
  {
   "cell_type": "code",
   "execution_count": 15,
   "metadata": {},
   "outputs": [],
   "source": [
    "x_train=pd.DataFrame(data=data_pipe.fit_transform(file),\n",
    "                     columns=data_pipe.get_feature_names())"
   ]
  },
  {
   "cell_type": "code",
   "execution_count": 16,
   "metadata": {},
   "outputs": [
    {
     "data": {
      "text/plain": [
       "array([' <=50K', ' >50K'], dtype=object)"
      ]
     },
     "execution_count": 16,
     "metadata": {},
     "output_type": "execute_result"
    }
   ],
   "source": [
    "file['Y'].unique()"
   ]
  },
  {
   "cell_type": "code",
   "execution_count": 17,
   "metadata": {},
   "outputs": [],
   "source": [
    "y_train=(file['Y']==' >50K').astype(int)"
   ]
  },
  {
   "cell_type": "code",
   "execution_count": 18,
   "metadata": {},
   "outputs": [
    {
     "data": {
      "text/plain": [
       "0    24720\n",
       "1     7841\n",
       "Name: Y, dtype: int64"
      ]
     },
     "execution_count": 18,
     "metadata": {},
     "output_type": "execute_result"
    }
   ],
   "source": [
    "y_train.value_counts()"
   ]
  },
  {
   "cell_type": "code",
   "execution_count": 19,
   "metadata": {},
   "outputs": [],
   "source": [
    "from sklearn.model_selection import RandomizedSearchCV"
   ]
  },
  {
   "cell_type": "code",
   "execution_count": 20,
   "metadata": {},
   "outputs": [],
   "source": [
    "params={ 'class_weight':[None,'balanced'], \n",
    "        'criterion':['entropy','gini'],\n",
    "        'max_depth':[None,5,10,15,20,30,50,70],\n",
    "            'min_samples_leaf':[1,2,5,10,15,20], \n",
    "            'min_samples_split':[2,5,10,15,20]\n",
    "       }"
   ]
  },
  {
   "cell_type": "code",
   "execution_count": 22,
   "metadata": {},
   "outputs": [],
   "source": [
    "from sklearn.tree import DecisionTreeClassifier"
   ]
  },
  {
   "cell_type": "code",
   "execution_count": 23,
   "metadata": {},
   "outputs": [],
   "source": [
    "clf=DecisionTreeClassifier()"
   ]
  },
  {
   "cell_type": "code",
   "execution_count": 24,
   "metadata": {},
   "outputs": [],
   "source": [
    "random_search=RandomizedSearchCV(clf,\n",
    "                                 cv=10,\n",
    "                                 param_distributions=params,\n",
    "                                 scoring='roc_auc',\n",
    "                                 n_iter=10,n_jobs=-1,verbose=20\n",
    "                                    )"
   ]
  },
  {
   "cell_type": "code",
   "execution_count": 25,
   "metadata": {},
   "outputs": [
    {
     "name": "stdout",
     "output_type": "stream",
     "text": [
      "Fitting 10 folds for each of 10 candidates, totalling 100 fits\n"
     ]
    },
    {
     "name": "stderr",
     "output_type": "stream",
     "text": [
      "[Parallel(n_jobs=-1)]: Using backend LokyBackend with 4 concurrent workers.\n",
      "[Parallel(n_jobs=-1)]: Done   1 tasks      | elapsed:    2.8s\n",
      "[Parallel(n_jobs=-1)]: Done   2 tasks      | elapsed:    2.8s\n",
      "[Parallel(n_jobs=-1)]: Done   3 tasks      | elapsed:    2.8s\n",
      "[Parallel(n_jobs=-1)]: Done   4 tasks      | elapsed:    3.1s\n",
      "[Parallel(n_jobs=-1)]: Done   5 tasks      | elapsed:    3.6s\n",
      "[Parallel(n_jobs=-1)]: Done   6 tasks      | elapsed:    3.6s\n",
      "[Parallel(n_jobs=-1)]: Done   7 tasks      | elapsed:    3.6s\n",
      "[Parallel(n_jobs=-1)]: Done   8 tasks      | elapsed:    3.8s\n",
      "[Parallel(n_jobs=-1)]: Done   9 tasks      | elapsed:    4.1s\n",
      "[Parallel(n_jobs=-1)]: Done  10 tasks      | elapsed:    4.1s\n",
      "[Parallel(n_jobs=-1)]: Done  11 tasks      | elapsed:    4.2s\n",
      "[Parallel(n_jobs=-1)]: Done  12 tasks      | elapsed:    4.3s\n",
      "[Parallel(n_jobs=-1)]: Done  13 tasks      | elapsed:    4.7s\n",
      "[Parallel(n_jobs=-1)]: Done  14 tasks      | elapsed:    4.8s\n",
      "[Parallel(n_jobs=-1)]: Done  15 tasks      | elapsed:    4.8s\n",
      "[Parallel(n_jobs=-1)]: Done  16 tasks      | elapsed:    4.9s\n",
      "[Parallel(n_jobs=-1)]: Done  17 tasks      | elapsed:    5.3s\n",
      "[Parallel(n_jobs=-1)]: Done  18 tasks      | elapsed:    5.3s\n",
      "[Parallel(n_jobs=-1)]: Done  19 tasks      | elapsed:    5.3s\n",
      "[Parallel(n_jobs=-1)]: Done  20 tasks      | elapsed:    5.4s\n",
      "[Parallel(n_jobs=-1)]: Done  21 tasks      | elapsed:    5.5s\n",
      "[Parallel(n_jobs=-1)]: Done  22 tasks      | elapsed:    5.5s\n",
      "[Parallel(n_jobs=-1)]: Done  23 tasks      | elapsed:    5.6s\n",
      "[Parallel(n_jobs=-1)]: Done  24 tasks      | elapsed:    5.6s\n",
      "[Parallel(n_jobs=-1)]: Done  25 tasks      | elapsed:    5.8s\n",
      "[Parallel(n_jobs=-1)]: Done  26 tasks      | elapsed:    5.8s\n",
      "[Parallel(n_jobs=-1)]: Done  27 tasks      | elapsed:    5.8s\n",
      "[Parallel(n_jobs=-1)]: Done  28 tasks      | elapsed:    5.9s\n",
      "[Parallel(n_jobs=-1)]: Done  29 tasks      | elapsed:    5.9s\n",
      "[Parallel(n_jobs=-1)]: Done  30 tasks      | elapsed:    6.0s\n",
      "[Parallel(n_jobs=-1)]: Done  31 tasks      | elapsed:    6.0s\n",
      "[Parallel(n_jobs=-1)]: Done  32 tasks      | elapsed:    6.0s\n",
      "[Parallel(n_jobs=-1)]: Done  33 tasks      | elapsed:    6.1s\n",
      "[Parallel(n_jobs=-1)]: Done  34 tasks      | elapsed:    6.2s\n",
      "[Parallel(n_jobs=-1)]: Done  35 tasks      | elapsed:    6.2s\n",
      "[Parallel(n_jobs=-1)]: Done  36 tasks      | elapsed:    6.2s\n",
      "[Parallel(n_jobs=-1)]: Done  37 tasks      | elapsed:    6.3s\n",
      "[Parallel(n_jobs=-1)]: Done  38 tasks      | elapsed:    6.3s\n",
      "[Parallel(n_jobs=-1)]: Done  39 tasks      | elapsed:    6.4s\n",
      "[Parallel(n_jobs=-1)]: Done  40 tasks      | elapsed:    6.4s\n",
      "[Parallel(n_jobs=-1)]: Done  41 tasks      | elapsed:    6.8s\n",
      "[Parallel(n_jobs=-1)]: Done  42 tasks      | elapsed:    6.8s\n",
      "[Parallel(n_jobs=-1)]: Done  43 tasks      | elapsed:    6.9s\n",
      "[Parallel(n_jobs=-1)]: Done  44 tasks      | elapsed:    6.9s\n",
      "[Parallel(n_jobs=-1)]: Done  45 tasks      | elapsed:    7.4s\n",
      "[Parallel(n_jobs=-1)]: Done  46 tasks      | elapsed:    7.4s\n",
      "[Parallel(n_jobs=-1)]: Done  47 tasks      | elapsed:    7.4s\n",
      "[Parallel(n_jobs=-1)]: Done  48 tasks      | elapsed:    7.4s\n",
      "[Parallel(n_jobs=-1)]: Done  49 tasks      | elapsed:    7.9s\n",
      "[Parallel(n_jobs=-1)]: Done  50 tasks      | elapsed:    7.9s\n",
      "[Parallel(n_jobs=-1)]: Done  51 tasks      | elapsed:    7.9s\n",
      "[Parallel(n_jobs=-1)]: Done  52 tasks      | elapsed:    8.0s\n",
      "[Parallel(n_jobs=-1)]: Done  53 tasks      | elapsed:    8.5s\n",
      "[Parallel(n_jobs=-1)]: Done  54 tasks      | elapsed:    8.5s\n",
      "[Parallel(n_jobs=-1)]: Done  55 tasks      | elapsed:    8.6s\n",
      "[Parallel(n_jobs=-1)]: Done  56 tasks      | elapsed:    8.7s\n",
      "[Parallel(n_jobs=-1)]: Done  57 tasks      | elapsed:    9.1s\n",
      "[Parallel(n_jobs=-1)]: Done  58 tasks      | elapsed:    9.2s\n",
      "[Parallel(n_jobs=-1)]: Done  59 tasks      | elapsed:    9.2s\n",
      "[Parallel(n_jobs=-1)]: Done  60 tasks      | elapsed:    9.3s\n",
      "[Parallel(n_jobs=-1)]: Done  61 tasks      | elapsed:    9.9s\n",
      "[Parallel(n_jobs=-1)]: Done  62 tasks      | elapsed:    9.9s\n",
      "[Parallel(n_jobs=-1)]: Done  63 tasks      | elapsed:   10.0s\n",
      "[Parallel(n_jobs=-1)]: Done  64 tasks      | elapsed:   10.0s\n",
      "[Parallel(n_jobs=-1)]: Done  65 tasks      | elapsed:   10.5s\n",
      "[Parallel(n_jobs=-1)]: Done  66 tasks      | elapsed:   10.6s\n",
      "[Parallel(n_jobs=-1)]: Done  67 tasks      | elapsed:   10.6s\n",
      "[Parallel(n_jobs=-1)]: Done  68 tasks      | elapsed:   10.6s\n",
      "[Parallel(n_jobs=-1)]: Done  69 tasks      | elapsed:   11.1s\n",
      "[Parallel(n_jobs=-1)]: Done  70 tasks      | elapsed:   11.2s\n",
      "[Parallel(n_jobs=-1)]: Done  71 tasks      | elapsed:   11.2s\n",
      "[Parallel(n_jobs=-1)]: Done  72 tasks      | elapsed:   11.2s\n",
      "[Parallel(n_jobs=-1)]: Done  73 tasks      | elapsed:   11.6s\n",
      "[Parallel(n_jobs=-1)]: Done  74 tasks      | elapsed:   11.7s\n",
      "[Parallel(n_jobs=-1)]: Done  75 tasks      | elapsed:   11.7s\n",
      "[Parallel(n_jobs=-1)]: Done  76 tasks      | elapsed:   11.8s\n",
      "[Parallel(n_jobs=-1)]: Done  77 tasks      | elapsed:   12.2s\n",
      "[Parallel(n_jobs=-1)]: Done  78 tasks      | elapsed:   12.2s\n",
      "[Parallel(n_jobs=-1)]: Done  79 tasks      | elapsed:   12.3s\n",
      "[Parallel(n_jobs=-1)]: Done  80 tasks      | elapsed:   12.3s\n",
      "[Parallel(n_jobs=-1)]: Done  81 tasks      | elapsed:   12.7s\n",
      "[Parallel(n_jobs=-1)]: Done  82 tasks      | elapsed:   12.7s\n",
      "[Parallel(n_jobs=-1)]: Done  83 tasks      | elapsed:   12.7s\n",
      "[Parallel(n_jobs=-1)]: Done  84 tasks      | elapsed:   12.7s\n",
      "[Parallel(n_jobs=-1)]: Done  85 tasks      | elapsed:   13.2s\n",
      "[Parallel(n_jobs=-1)]: Done  86 tasks      | elapsed:   13.2s\n",
      "[Parallel(n_jobs=-1)]: Done  87 tasks      | elapsed:   13.2s\n",
      "[Parallel(n_jobs=-1)]: Done  88 tasks      | elapsed:   13.2s\n",
      "[Parallel(n_jobs=-1)]: Done  89 tasks      | elapsed:   13.7s\n",
      "[Parallel(n_jobs=-1)]: Done  90 tasks      | elapsed:   13.7s\n",
      "[Parallel(n_jobs=-1)]: Done  91 tasks      | elapsed:   13.7s\n",
      "[Parallel(n_jobs=-1)]: Done  92 tasks      | elapsed:   13.7s\n",
      "[Parallel(n_jobs=-1)]: Done  93 tasks      | elapsed:   14.1s\n",
      "[Parallel(n_jobs=-1)]: Done 100 out of 100 | elapsed:   14.6s finished\n"
     ]
    },
    {
     "data": {
      "text/plain": [
       "RandomizedSearchCV(cv=10, error_score=nan,\n",
       "                   estimator=DecisionTreeClassifier(ccp_alpha=0.0,\n",
       "                                                    class_weight=None,\n",
       "                                                    criterion='gini',\n",
       "                                                    max_depth=None,\n",
       "                                                    max_features=None,\n",
       "                                                    max_leaf_nodes=None,\n",
       "                                                    min_impurity_decrease=0.0,\n",
       "                                                    min_impurity_split=None,\n",
       "                                                    min_samples_leaf=1,\n",
       "                                                    min_samples_split=2,\n",
       "                                                    min_weight_fraction_leaf=0.0,\n",
       "                                                    presort='deprecated',\n",
       "                                                    random_state=None,\n",
       "                                                    splitter='best'),\n",
       "                   iid='deprecated', n_iter=10, n_jobs=-1,\n",
       "                   param_distributions={'class_weight': [None, 'balanced'],\n",
       "                                        'criterion': ['entropy', 'gini'],\n",
       "                                        'max_depth': [None, 5, 10, 15, 20, 30,\n",
       "                                                      50, 70],\n",
       "                                        'min_samples_leaf': [1, 2, 5, 10, 15,\n",
       "                                                             20],\n",
       "                                        'min_samples_split': [2, 5, 10, 15,\n",
       "                                                              20]},\n",
       "                   pre_dispatch='2*n_jobs', random_state=None, refit=True,\n",
       "                   return_train_score=False, scoring='roc_auc', verbose=20)"
      ]
     },
     "execution_count": 25,
     "metadata": {},
     "output_type": "execute_result"
    }
   ],
   "source": [
    "random_search.fit(x_train,y_train)"
   ]
  },
  {
   "cell_type": "code",
   "execution_count": 26,
   "metadata": {},
   "outputs": [],
   "source": [
    "def report(results, n_top=3):\n",
    "    for i in range(1, n_top + 1):\n",
    "        candidates = np.flatnonzero(results['rank_test_score'] == i)\n",
    "        for candidate in candidates:\n",
    "            print(\"Model with rank: {0}\".format(i))\n",
    "            print(\"Mean validation score: {0:.5f} (std: {1:.5f})\".format(\n",
    "                  results['mean_test_score'][candidate],\n",
    "                  results['std_test_score'][candidate]))\n",
    "            print(\"Parameters: {0}\".format(results['params'][candidate]))\n",
    "            print(\"\")"
   ]
  },
  {
   "cell_type": "code",
   "execution_count": 27,
   "metadata": {},
   "outputs": [
    {
     "name": "stdout",
     "output_type": "stream",
     "text": [
      "Model with rank: 1\n",
      "Mean validation score: 0.89856 (std: 0.00581)\n",
      "Parameters: {'min_samples_split': 2, 'min_samples_leaf': 20, 'max_depth': 15, 'criterion': 'gini', 'class_weight': 'balanced'}\n",
      "\n",
      "Model with rank: 2\n",
      "Mean validation score: 0.89064 (std: 0.00702)\n",
      "Parameters: {'min_samples_split': 15, 'min_samples_leaf': 10, 'max_depth': 15, 'criterion': 'entropy', 'class_weight': None}\n",
      "\n",
      "Model with rank: 3\n",
      "Mean validation score: 0.89041 (std: 0.00589)\n",
      "Parameters: {'min_samples_split': 15, 'min_samples_leaf': 1, 'max_depth': 5, 'criterion': 'entropy', 'class_weight': None}\n",
      "\n",
      "Model with rank: 4\n",
      "Mean validation score: 0.88447 (std: 0.00515)\n",
      "Parameters: {'min_samples_split': 10, 'min_samples_leaf': 10, 'max_depth': 5, 'criterion': 'gini', 'class_weight': None}\n",
      "\n",
      "Model with rank: 5\n",
      "Mean validation score: 0.88322 (std: 0.00699)\n",
      "Parameters: {'min_samples_split': 20, 'min_samples_leaf': 2, 'max_depth': 15, 'criterion': 'entropy', 'class_weight': None}\n",
      "\n"
     ]
    }
   ],
   "source": [
    "report(random_search.cv_results_,5)"
   ]
  },
  {
   "cell_type": "code",
   "execution_count": 28,
   "metadata": {},
   "outputs": [],
   "source": [
    "dtree=DecisionTreeClassifier(**{'min_samples_split': 20, 'min_samples_leaf': 10, 'max_depth': 4, 'criterion': 'entropy', 'class_weight': None})"
   ]
  },
  {
   "cell_type": "code",
   "execution_count": 29,
   "metadata": {},
   "outputs": [
    {
     "data": {
      "text/plain": [
       "DecisionTreeClassifier(ccp_alpha=0.0, class_weight=None, criterion='entropy',\n",
       "                       max_depth=4, max_features=None, max_leaf_nodes=None,\n",
       "                       min_impurity_decrease=0.0, min_impurity_split=None,\n",
       "                       min_samples_leaf=10, min_samples_split=20,\n",
       "                       min_weight_fraction_leaf=0.0, presort='deprecated',\n",
       "                       random_state=None, splitter='best')"
      ]
     },
     "execution_count": 29,
     "metadata": {},
     "output_type": "execute_result"
    }
   ],
   "source": [
    "dtree"
   ]
  },
  {
   "cell_type": "code",
   "execution_count": 30,
   "metadata": {},
   "outputs": [
    {
     "data": {
      "text/plain": [
       "DecisionTreeClassifier(ccp_alpha=0.0, class_weight=None, criterion='entropy',\n",
       "                       max_depth=4, max_features=None, max_leaf_nodes=None,\n",
       "                       min_impurity_decrease=0.0, min_impurity_split=None,\n",
       "                       min_samples_leaf=10, min_samples_split=20,\n",
       "                       min_weight_fraction_leaf=0.0, presort='deprecated',\n",
       "                       random_state=None, splitter='best')"
      ]
     },
     "execution_count": 30,
     "metadata": {},
     "output_type": "execute_result"
    }
   ],
   "source": [
    "dtree.fit(x_train,y_train)"
   ]
  },
  {
   "cell_type": "code",
   "execution_count": 33,
   "metadata": {},
   "outputs": [],
   "source": [
    "dotfile = open(\"mytree.dot\", 'w')\n",
    "\n",
    "tree.export_graphviz(dtree,out_file=dotfile,\n",
    "                     feature_names=x_train.columns,\n",
    "                    class_names=[\"0\",\"1\"],\n",
    "                     )\n",
    "dotfile.close()"
   ]
  },
  {
   "cell_type": "code",
   "execution_count": 34,
   "metadata": {},
   "outputs": [
    {
     "data": {
      "text/plain": [
       "(32561, 45)"
      ]
     },
     "execution_count": 34,
     "metadata": {},
     "output_type": "execute_result"
    }
   ],
   "source": [
    "x_train.shape"
   ]
  },
  {
   "cell_type": "code",
   "execution_count": 35,
   "metadata": {},
   "outputs": [],
   "source": [
    "\n",
    "from sklearn.ensemble import RandomForestClassifier\n"
   ]
  },
  {
   "cell_type": "code",
   "execution_count": 36,
   "metadata": {},
   "outputs": [
    {
     "data": {
      "text/plain": [
       "(32561, 45)"
      ]
     },
     "execution_count": 36,
     "metadata": {},
     "output_type": "execute_result"
    }
   ],
   "source": [
    "x_train.shape"
   ]
  },
  {
   "cell_type": "code",
   "execution_count": 37,
   "metadata": {},
   "outputs": [],
   "source": [
    "clf = RandomForestClassifier()"
   ]
  },
  {
   "cell_type": "code",
   "execution_count": 38,
   "metadata": {},
   "outputs": [],
   "source": [
    "param_dist = {\"n_estimators\":[100,200,300,500,700,1000],\n",
    "              \"max_features\": [5,10,20,25,30,35],\n",
    "              \"bootstrap\": [True, False],\n",
    "              'class_weight':[None,'balanced'], \n",
    "                'criterion':['entropy','gini'],\n",
    "                'max_depth':[None,5,10,15,20,30,50,70],\n",
    "                'min_samples_leaf':[1,2,5,10,15,20], \n",
    "                'min_samples_split':[2,5,10,15,20]\n",
    "                  }"
   ]
  },
  {
   "cell_type": "code",
   "execution_count": 39,
   "metadata": {},
   "outputs": [
    {
     "data": {
      "text/plain": [
       "(32561, 45)"
      ]
     },
     "execution_count": 39,
     "metadata": {},
     "output_type": "execute_result"
    }
   ],
   "source": [
    "x_train.shape"
   ]
  },
  {
   "cell_type": "code",
   "execution_count": 40,
   "metadata": {},
   "outputs": [
    {
     "name": "stdout",
     "output_type": "stream",
     "text": [
      "Fitting 10 folds for each of 10 candidates, totalling 100 fits\n"
     ]
    },
    {
     "name": "stderr",
     "output_type": "stream",
     "text": [
      "[Parallel(n_jobs=-1)]: Using backend LokyBackend with 4 concurrent workers.\n",
      "[Parallel(n_jobs=-1)]: Done   1 tasks      | elapsed:   15.8s\n",
      "[Parallel(n_jobs=-1)]: Done   2 tasks      | elapsed:   16.0s\n",
      "[Parallel(n_jobs=-1)]: Done   3 tasks      | elapsed:   16.0s\n",
      "[Parallel(n_jobs=-1)]: Done   4 tasks      | elapsed:   16.1s\n",
      "[Parallel(n_jobs=-1)]: Done   5 tasks      | elapsed:   34.1s\n",
      "[Parallel(n_jobs=-1)]: Done   6 tasks      | elapsed:   34.1s\n",
      "[Parallel(n_jobs=-1)]: Done   7 tasks      | elapsed:   34.3s\n",
      "[Parallel(n_jobs=-1)]: Done   8 tasks      | elapsed:   34.4s\n",
      "[Parallel(n_jobs=-1)]: Done   9 tasks      | elapsed:   49.8s\n",
      "[Parallel(n_jobs=-1)]: Done  10 tasks      | elapsed:   49.8s\n",
      "[Parallel(n_jobs=-1)]: Done  11 tasks      | elapsed:  3.3min\n",
      "[Parallel(n_jobs=-1)]: Done  12 tasks      | elapsed:  3.3min\n",
      "[Parallel(n_jobs=-1)]: Done  13 tasks      | elapsed:  3.6min\n",
      "[Parallel(n_jobs=-1)]: Done  14 tasks      | elapsed:  3.6min\n",
      "[Parallel(n_jobs=-1)]: Done  15 tasks      | elapsed:  6.4min\n",
      "[Parallel(n_jobs=-1)]: Done  16 tasks      | elapsed:  6.4min\n",
      "[Parallel(n_jobs=-1)]: Done  17 tasks      | elapsed:  6.7min\n",
      "[Parallel(n_jobs=-1)]: Done  18 tasks      | elapsed:  6.7min\n",
      "[Parallel(n_jobs=-1)]: Done  19 tasks      | elapsed:  6.8min\n",
      "[Parallel(n_jobs=-1)]: Done  20 tasks      | elapsed:  6.8min\n",
      "[Parallel(n_jobs=-1)]: Done  21 tasks      | elapsed:  7.0min\n",
      "[Parallel(n_jobs=-1)]: Done  22 tasks      | elapsed:  7.0min\n",
      "[Parallel(n_jobs=-1)]: Done  23 tasks      | elapsed:  7.2min\n",
      "[Parallel(n_jobs=-1)]: Done  24 tasks      | elapsed:  7.2min\n",
      "[Parallel(n_jobs=-1)]: Done  25 tasks      | elapsed:  7.3min\n",
      "[Parallel(n_jobs=-1)]: Done  26 tasks      | elapsed:  7.3min\n",
      "[Parallel(n_jobs=-1)]: Done  27 tasks      | elapsed:  7.5min\n",
      "[Parallel(n_jobs=-1)]: Done  28 tasks      | elapsed:  7.5min\n",
      "[Parallel(n_jobs=-1)]: Done  29 tasks      | elapsed:  9.0min\n",
      "[Parallel(n_jobs=-1)]: Done  30 tasks      | elapsed:  9.0min\n",
      "[Parallel(n_jobs=-1)]: Done  31 tasks      | elapsed:  9.3min\n",
      "[Parallel(n_jobs=-1)]: Done  32 tasks      | elapsed:  9.3min\n",
      "[Parallel(n_jobs=-1)]: Done  33 tasks      | elapsed: 10.9min\n",
      "[Parallel(n_jobs=-1)]: Done  34 tasks      | elapsed: 10.9min\n",
      "[Parallel(n_jobs=-1)]: Done  35 tasks      | elapsed: 11.2min\n",
      "[Parallel(n_jobs=-1)]: Done  36 tasks      | elapsed: 11.2min\n",
      "[Parallel(n_jobs=-1)]: Done  37 tasks      | elapsed: 12.9min\n",
      "[Parallel(n_jobs=-1)]: Done  38 tasks      | elapsed: 12.9min\n",
      "[Parallel(n_jobs=-1)]: Done  39 tasks      | elapsed: 13.2min\n",
      "[Parallel(n_jobs=-1)]: Done  40 tasks      | elapsed: 13.2min\n",
      "[Parallel(n_jobs=-1)]: Done  41 tasks      | elapsed: 15.0min\n",
      "[Parallel(n_jobs=-1)]: Done  42 tasks      | elapsed: 15.1min\n",
      "[Parallel(n_jobs=-1)]: Done  43 tasks      | elapsed: 15.3min\n",
      "[Parallel(n_jobs=-1)]: Done  44 tasks      | elapsed: 15.3min\n",
      "[Parallel(n_jobs=-1)]: Done  45 tasks      | elapsed: 17.2min\n",
      "[Parallel(n_jobs=-1)]: Done  46 tasks      | elapsed: 17.3min\n",
      "[Parallel(n_jobs=-1)]: Done  47 tasks      | elapsed: 17.6min\n",
      "[Parallel(n_jobs=-1)]: Done  48 tasks      | elapsed: 17.6min\n",
      "[Parallel(n_jobs=-1)]: Done  49 tasks      | elapsed: 18.5min\n",
      "[Parallel(n_jobs=-1)]: Done  50 tasks      | elapsed: 18.5min\n",
      "[Parallel(n_jobs=-1)]: Done  51 tasks      | elapsed: 19.3min\n",
      "[Parallel(n_jobs=-1)]: Done  52 tasks      | elapsed: 19.4min\n",
      "[Parallel(n_jobs=-1)]: Done  53 tasks      | elapsed: 19.4min\n",
      "[Parallel(n_jobs=-1)]: Done  54 tasks      | elapsed: 19.4min\n",
      "[Parallel(n_jobs=-1)]: Done  55 tasks      | elapsed: 20.1min\n",
      "[Parallel(n_jobs=-1)]: Done  56 tasks      | elapsed: 20.2min\n",
      "[Parallel(n_jobs=-1)]: Done  57 tasks      | elapsed: 20.2min\n",
      "[Parallel(n_jobs=-1)]: Done  58 tasks      | elapsed: 20.2min\n",
      "[Parallel(n_jobs=-1)]: Done  59 tasks      | elapsed: 20.9min\n",
      "[Parallel(n_jobs=-1)]: Done  60 tasks      | elapsed: 20.9min\n",
      "[Parallel(n_jobs=-1)]: Done  61 tasks      | elapsed: 20.9min\n",
      "[Parallel(n_jobs=-1)]: Done  62 tasks      | elapsed: 20.9min\n",
      "[Parallel(n_jobs=-1)]: Done  63 tasks      | elapsed: 21.6min\n",
      "[Parallel(n_jobs=-1)]: Done  64 tasks      | elapsed: 21.6min\n",
      "[Parallel(n_jobs=-1)]: Done  65 tasks      | elapsed: 21.6min\n",
      "[Parallel(n_jobs=-1)]: Done  66 tasks      | elapsed: 21.7min\n",
      "[Parallel(n_jobs=-1)]: Done  67 tasks      | elapsed: 22.3min\n",
      "[Parallel(n_jobs=-1)]: Done  68 tasks      | elapsed: 22.4min\n",
      "[Parallel(n_jobs=-1)]: Done  69 tasks      | elapsed: 22.4min\n",
      "[Parallel(n_jobs=-1)]: Done  70 tasks      | elapsed: 22.4min\n",
      "[Parallel(n_jobs=-1)]: Done  71 tasks      | elapsed: 23.6min\n",
      "[Parallel(n_jobs=-1)]: Done  72 tasks      | elapsed: 23.6min\n",
      "[Parallel(n_jobs=-1)]: Done  73 tasks      | elapsed: 23.6min\n",
      "[Parallel(n_jobs=-1)]: Done  74 tasks      | elapsed: 23.6min\n",
      "[Parallel(n_jobs=-1)]: Done  75 tasks      | elapsed: 24.7min\n",
      "[Parallel(n_jobs=-1)]: Done  76 tasks      | elapsed: 24.8min\n",
      "[Parallel(n_jobs=-1)]: Done  77 tasks      | elapsed: 24.8min\n",
      "[Parallel(n_jobs=-1)]: Done  78 tasks      | elapsed: 24.8min\n",
      "[Parallel(n_jobs=-1)]: Done  79 tasks      | elapsed: 25.6min\n",
      "[Parallel(n_jobs=-1)]: Done  80 tasks      | elapsed: 25.6min\n",
      "[Parallel(n_jobs=-1)]: Done  81 tasks      | elapsed: 26.0min\n",
      "[Parallel(n_jobs=-1)]: Done  82 tasks      | elapsed: 26.0min\n",
      "[Parallel(n_jobs=-1)]: Done  83 tasks      | elapsed: 26.3min\n",
      "[Parallel(n_jobs=-1)]: Done  84 tasks      | elapsed: 26.3min\n",
      "[Parallel(n_jobs=-1)]: Done  85 tasks      | elapsed: 26.8min\n",
      "[Parallel(n_jobs=-1)]: Done  86 tasks      | elapsed: 26.8min\n",
      "[Parallel(n_jobs=-1)]: Done  87 tasks      | elapsed: 27.1min\n",
      "[Parallel(n_jobs=-1)]: Done  88 tasks      | elapsed: 27.1min\n",
      "[Parallel(n_jobs=-1)]: Done  89 tasks      | elapsed: 27.5min\n",
      "[Parallel(n_jobs=-1)]: Done  90 tasks      | elapsed: 27.6min\n",
      "[Parallel(n_jobs=-1)]: Done  91 tasks      | elapsed: 30.3min\n",
      "[Parallel(n_jobs=-1)]: Done  92 tasks      | elapsed: 30.3min\n",
      "[Parallel(n_jobs=-1)]: Done  93 tasks      | elapsed: 30.9min\n",
      "[Parallel(n_jobs=-1)]: Done 100 out of 100 | elapsed: 35.7min finished\n"
     ]
    },
    {
     "data": {
      "text/plain": [
       "RandomizedSearchCV(cv=10, error_score=nan,\n",
       "                   estimator=RandomForestClassifier(bootstrap=True,\n",
       "                                                    ccp_alpha=0.0,\n",
       "                                                    class_weight=None,\n",
       "                                                    criterion='gini',\n",
       "                                                    max_depth=None,\n",
       "                                                    max_features='auto',\n",
       "                                                    max_leaf_nodes=None,\n",
       "                                                    max_samples=None,\n",
       "                                                    min_impurity_decrease=0.0,\n",
       "                                                    min_impurity_split=None,\n",
       "                                                    min_samples_leaf=1,\n",
       "                                                    min_samples_split=2,\n",
       "                                                    min_weight_fraction_leaf=0.0,\n",
       "                                                    n_estimators=100,\n",
       "                                                    n_job...\n",
       "                                        'class_weight': [None, 'balanced'],\n",
       "                                        'criterion': ['entropy', 'gini'],\n",
       "                                        'max_depth': [None, 5, 10, 15, 20, 30,\n",
       "                                                      50, 70],\n",
       "                                        'max_features': [5, 10, 20, 25, 30, 35],\n",
       "                                        'min_samples_leaf': [1, 2, 5, 10, 15,\n",
       "                                                             20],\n",
       "                                        'min_samples_split': [2, 5, 10, 15, 20],\n",
       "                                        'n_estimators': [100, 200, 300, 500,\n",
       "                                                         700, 1000]},\n",
       "                   pre_dispatch='2*n_jobs', random_state=None, refit=True,\n",
       "                   return_train_score=False, scoring='roc_auc', verbose=20)"
      ]
     },
     "execution_count": 40,
     "metadata": {},
     "output_type": "execute_result"
    }
   ],
   "source": [
    "# run randomized search\n",
    "n_iter_search = 10\n",
    "# n_iter parameter of RandomizedSeacrhCV controls, how many \n",
    "# parameter combination will be tried; out of all possible given values\n",
    "\n",
    "random_search = RandomizedSearchCV(clf, param_distributions=param_dist,\n",
    "                                   n_iter=n_iter_search,\n",
    "                                   scoring='roc_auc',\n",
    "                                   cv=10,\n",
    "                                  n_jobs=-1,verbose=20)\n",
    "random_search.fit(x_train, y_train)"
   ]
  },
  {
   "cell_type": "code",
   "execution_count": 41,
   "metadata": {},
   "outputs": [
    {
     "data": {
      "text/plain": [
       "RandomForestClassifier(bootstrap=True, ccp_alpha=0.0, class_weight='balanced',\n",
       "                       criterion='entropy', max_depth=20, max_features=30,\n",
       "                       max_leaf_nodes=None, max_samples=None,\n",
       "                       min_impurity_decrease=0.0, min_impurity_split=None,\n",
       "                       min_samples_leaf=5, min_samples_split=20,\n",
       "                       min_weight_fraction_leaf=0.0, n_estimators=500,\n",
       "                       n_jobs=None, oob_score=False, random_state=None,\n",
       "                       verbose=0, warm_start=False)"
      ]
     },
     "execution_count": 41,
     "metadata": {},
     "output_type": "execute_result"
    }
   ],
   "source": [
    "random_search.best_estimator_"
   ]
  },
  {
   "cell_type": "code",
   "execution_count": 42,
   "metadata": {},
   "outputs": [
    {
     "name": "stdout",
     "output_type": "stream",
     "text": [
      "Model with rank: 1\n",
      "Mean validation score: 0.91864 (std: 0.00390)\n",
      "Parameters: {'n_estimators': 500, 'min_samples_split': 20, 'min_samples_leaf': 5, 'max_features': 30, 'max_depth': 20, 'criterion': 'entropy', 'class_weight': 'balanced', 'bootstrap': True}\n",
      "\n",
      "Model with rank: 2\n",
      "Mean validation score: 0.91826 (std: 0.00401)\n",
      "Parameters: {'n_estimators': 100, 'min_samples_split': 2, 'min_samples_leaf': 10, 'max_features': 25, 'max_depth': 15, 'criterion': 'entropy', 'class_weight': 'balanced', 'bootstrap': True}\n",
      "\n",
      "Model with rank: 3\n",
      "Mean validation score: 0.91770 (std: 0.00460)\n",
      "Parameters: {'n_estimators': 1000, 'min_samples_split': 10, 'min_samples_leaf': 5, 'max_features': 20, 'max_depth': 70, 'criterion': 'entropy', 'class_weight': None, 'bootstrap': True}\n",
      "\n",
      "Model with rank: 4\n",
      "Mean validation score: 0.91766 (std: 0.00410)\n",
      "Parameters: {'n_estimators': 100, 'min_samples_split': 2, 'min_samples_leaf': 1, 'max_features': 20, 'max_depth': 10, 'criterion': 'gini', 'class_weight': None, 'bootstrap': True}\n",
      "\n",
      "Model with rank: 5\n",
      "Mean validation score: 0.91680 (std: 0.00394)\n",
      "Parameters: {'n_estimators': 700, 'min_samples_split': 15, 'min_samples_leaf': 15, 'max_features': 25, 'max_depth': 15, 'criterion': 'entropy', 'class_weight': 'balanced', 'bootstrap': False}\n",
      "\n"
     ]
    }
   ],
   "source": [
    "report(random_search.cv_results_,5)"
   ]
  },
  {
   "cell_type": "code",
   "execution_count": 43,
   "metadata": {},
   "outputs": [],
   "source": [
    "# select the best values from results above, they will vary slightly with each run\n",
    "rf=RandomForestClassifier(**{'n_estimators': 500, 'min_samples_split': 20, 'min_samples_leaf': 1, 'max_features': 25, 'max_depth': 15, 'criterion': 'gini', 'class_weight': 'balanced', 'bootstrap': True})"
   ]
  },
  {
   "cell_type": "code",
   "execution_count": 44,
   "metadata": {},
   "outputs": [
    {
     "data": {
      "text/plain": [
       "RandomForestClassifier(bootstrap=True, ccp_alpha=0.0, class_weight='balanced',\n",
       "                       criterion='gini', max_depth=15, max_features=25,\n",
       "                       max_leaf_nodes=None, max_samples=None,\n",
       "                       min_impurity_decrease=0.0, min_impurity_split=None,\n",
       "                       min_samples_leaf=1, min_samples_split=20,\n",
       "                       min_weight_fraction_leaf=0.0, n_estimators=500,\n",
       "                       n_jobs=None, oob_score=False, random_state=None,\n",
       "                       verbose=0, warm_start=False)"
      ]
     },
     "execution_count": 44,
     "metadata": {},
     "output_type": "execute_result"
    }
   ],
   "source": [
    "rf.fit(x_train,y_train)"
   ]
  },
  {
   "cell_type": "markdown",
   "metadata": {},
   "source": [
    "## Feature Importance"
   ]
  },
  {
   "cell_type": "code",
   "execution_count": 45,
   "metadata": {},
   "outputs": [],
   "source": [
    "feat_imp_df=pd.DataFrame({'features':x_train.columns,\n",
    "                          'importance':rf.feature_importances_})\n",
    "\n",
    "feat_imp_df=feat_imp_df.sort_values('importance',ascending=False)\n",
    "feat_imp_df['normalised_imp']=feat_imp_df['importance']/np.sum(feat_imp_df['importance'])\n",
    "feat_imp_df['cum_imp']=np.cumsum(feat_imp_df['normalised_imp'])"
   ]
  },
  {
   "cell_type": "code",
   "execution_count": 46,
   "metadata": {},
   "outputs": [
    {
     "data": {
      "text/html": [
       "<div>\n",
       "<style scoped>\n",
       "    .dataframe tbody tr th:only-of-type {\n",
       "        vertical-align: middle;\n",
       "    }\n",
       "\n",
       "    .dataframe tbody tr th {\n",
       "        vertical-align: top;\n",
       "    }\n",
       "\n",
       "    .dataframe thead th {\n",
       "        text-align: right;\n",
       "    }\n",
       "</style>\n",
       "<table border=\"1\" class=\"dataframe\">\n",
       "  <thead>\n",
       "    <tr style=\"text-align: right;\">\n",
       "      <th></th>\n",
       "      <th>features</th>\n",
       "      <th>importance</th>\n",
       "      <th>normalised_imp</th>\n",
       "      <th>cum_imp</th>\n",
       "    </tr>\n",
       "  </thead>\n",
       "  <tbody>\n",
       "    <tr>\n",
       "      <th>7</th>\n",
       "      <td>cat_pipe__marital.status_ Married-civ-spouse</td>\n",
       "      <td>0.282486</td>\n",
       "      <td>0.282486</td>\n",
       "      <td>0.282486</td>\n",
       "    </tr>\n",
       "    <tr>\n",
       "      <th>41</th>\n",
       "      <td>num_pipe__education.num</td>\n",
       "      <td>0.146379</td>\n",
       "      <td>0.146379</td>\n",
       "      <td>0.428865</td>\n",
       "    </tr>\n",
       "    <tr>\n",
       "      <th>42</th>\n",
       "      <td>num_pipe__capital.gain</td>\n",
       "      <td>0.121051</td>\n",
       "      <td>0.121051</td>\n",
       "      <td>0.549916</td>\n",
       "    </tr>\n",
       "    <tr>\n",
       "      <th>39</th>\n",
       "      <td>num_pipe__age</td>\n",
       "      <td>0.086145</td>\n",
       "      <td>0.086145</td>\n",
       "      <td>0.636061</td>\n",
       "    </tr>\n",
       "    <tr>\n",
       "      <th>26</th>\n",
       "      <td>cat_pipe__relationship_ Husband</td>\n",
       "      <td>0.081790</td>\n",
       "      <td>0.081790</td>\n",
       "      <td>0.717851</td>\n",
       "    </tr>\n",
       "    <tr>\n",
       "      <th>44</th>\n",
       "      <td>num_pipe__hours.per.week</td>\n",
       "      <td>0.054198</td>\n",
       "      <td>0.054198</td>\n",
       "      <td>0.772049</td>\n",
       "    </tr>\n",
       "    <tr>\n",
       "      <th>40</th>\n",
       "      <td>num_pipe__fnlwgt</td>\n",
       "      <td>0.043663</td>\n",
       "      <td>0.043663</td>\n",
       "      <td>0.815712</td>\n",
       "    </tr>\n",
       "    <tr>\n",
       "      <th>8</th>\n",
       "      <td>cat_pipe__marital.status_ Never-married</td>\n",
       "      <td>0.034743</td>\n",
       "      <td>0.034743</td>\n",
       "      <td>0.850455</td>\n",
       "    </tr>\n",
       "    <tr>\n",
       "      <th>43</th>\n",
       "      <td>num_pipe__capital.loss</td>\n",
       "      <td>0.031051</td>\n",
       "      <td>0.031051</td>\n",
       "      <td>0.881506</td>\n",
       "    </tr>\n",
       "    <tr>\n",
       "      <th>30</th>\n",
       "      <td>cat_pipe__relationship_ Wife</td>\n",
       "      <td>0.021649</td>\n",
       "      <td>0.021649</td>\n",
       "      <td>0.903155</td>\n",
       "    </tr>\n",
       "    <tr>\n",
       "      <th>15</th>\n",
       "      <td>cat_pipe__occupation_ Exec-managerial</td>\n",
       "      <td>0.011686</td>\n",
       "      <td>0.011686</td>\n",
       "      <td>0.914842</td>\n",
       "    </tr>\n",
       "    <tr>\n",
       "      <th>13</th>\n",
       "      <td>cat_pipe__occupation_ Prof-specialty</td>\n",
       "      <td>0.008137</td>\n",
       "      <td>0.008137</td>\n",
       "      <td>0.922979</td>\n",
       "    </tr>\n",
       "    <tr>\n",
       "      <th>18</th>\n",
       "      <td>cat_pipe__occupation_ Other-service</td>\n",
       "      <td>0.005683</td>\n",
       "      <td>0.005683</td>\n",
       "      <td>0.928662</td>\n",
       "    </tr>\n",
       "    <tr>\n",
       "      <th>35</th>\n",
       "      <td>cat_pipe__sex_ Male</td>\n",
       "      <td>0.005587</td>\n",
       "      <td>0.005587</td>\n",
       "      <td>0.934249</td>\n",
       "    </tr>\n",
       "    <tr>\n",
       "      <th>1</th>\n",
       "      <td>cat_pipe__workclass_ Self-emp-not-inc</td>\n",
       "      <td>0.005284</td>\n",
       "      <td>0.005284</td>\n",
       "      <td>0.939533</td>\n",
       "    </tr>\n",
       "    <tr>\n",
       "      <th>23</th>\n",
       "      <td>cat_pipe__occupation_ Farming-fishing</td>\n",
       "      <td>0.003883</td>\n",
       "      <td>0.003883</td>\n",
       "      <td>0.943416</td>\n",
       "    </tr>\n",
       "    <tr>\n",
       "      <th>17</th>\n",
       "      <td>cat_pipe__occupation_ Sales</td>\n",
       "      <td>0.003572</td>\n",
       "      <td>0.003572</td>\n",
       "      <td>0.946988</td>\n",
       "    </tr>\n",
       "    <tr>\n",
       "      <th>0</th>\n",
       "      <td>cat_pipe__workclass_ Private</td>\n",
       "      <td>0.003184</td>\n",
       "      <td>0.003184</td>\n",
       "      <td>0.950172</td>\n",
       "    </tr>\n",
       "    <tr>\n",
       "      <th>27</th>\n",
       "      <td>cat_pipe__relationship_ Not-in-family</td>\n",
       "      <td>0.002927</td>\n",
       "      <td>0.002927</td>\n",
       "      <td>0.953099</td>\n",
       "    </tr>\n",
       "    <tr>\n",
       "      <th>5</th>\n",
       "      <td>cat_pipe__workclass_ Self-emp-inc</td>\n",
       "      <td>0.002799</td>\n",
       "      <td>0.002799</td>\n",
       "      <td>0.955898</td>\n",
       "    </tr>\n",
       "    <tr>\n",
       "      <th>21</th>\n",
       "      <td>cat_pipe__occupation_ Transport-moving</td>\n",
       "      <td>0.002692</td>\n",
       "      <td>0.002692</td>\n",
       "      <td>0.958590</td>\n",
       "    </tr>\n",
       "    <tr>\n",
       "      <th>36</th>\n",
       "      <td>cat_pipe__native.country_ United-States</td>\n",
       "      <td>0.002674</td>\n",
       "      <td>0.002674</td>\n",
       "      <td>0.961263</td>\n",
       "    </tr>\n",
       "    <tr>\n",
       "      <th>6</th>\n",
       "      <td>cat_pipe__workclass_ Federal-gov</td>\n",
       "      <td>0.002657</td>\n",
       "      <td>0.002657</td>\n",
       "      <td>0.963920</td>\n",
       "    </tr>\n",
       "    <tr>\n",
       "      <th>24</th>\n",
       "      <td>cat_pipe__occupation_ Tech-support</td>\n",
       "      <td>0.002562</td>\n",
       "      <td>0.002562</td>\n",
       "      <td>0.966483</td>\n",
       "    </tr>\n",
       "    <tr>\n",
       "      <th>2</th>\n",
       "      <td>cat_pipe__workclass_ Local-gov</td>\n",
       "      <td>0.002522</td>\n",
       "      <td>0.002522</td>\n",
       "      <td>0.969005</td>\n",
       "    </tr>\n",
       "    <tr>\n",
       "      <th>14</th>\n",
       "      <td>cat_pipe__occupation_ Craft-repair</td>\n",
       "      <td>0.002519</td>\n",
       "      <td>0.002519</td>\n",
       "      <td>0.971523</td>\n",
       "    </tr>\n",
       "    <tr>\n",
       "      <th>16</th>\n",
       "      <td>cat_pipe__occupation_ Adm-clerical</td>\n",
       "      <td>0.002512</td>\n",
       "      <td>0.002512</td>\n",
       "      <td>0.974036</td>\n",
       "    </tr>\n",
       "    <tr>\n",
       "      <th>31</th>\n",
       "      <td>cat_pipe__race_ White</td>\n",
       "      <td>0.002411</td>\n",
       "      <td>0.002411</td>\n",
       "      <td>0.976447</td>\n",
       "    </tr>\n",
       "    <tr>\n",
       "      <th>9</th>\n",
       "      <td>cat_pipe__marital.status_ Divorced</td>\n",
       "      <td>0.002303</td>\n",
       "      <td>0.002303</td>\n",
       "      <td>0.978750</td>\n",
       "    </tr>\n",
       "    <tr>\n",
       "      <th>28</th>\n",
       "      <td>cat_pipe__relationship_ Own-child</td>\n",
       "      <td>0.002286</td>\n",
       "      <td>0.002286</td>\n",
       "      <td>0.981036</td>\n",
       "    </tr>\n",
       "    <tr>\n",
       "      <th>4</th>\n",
       "      <td>cat_pipe__workclass_ State-gov</td>\n",
       "      <td>0.001975</td>\n",
       "      <td>0.001975</td>\n",
       "      <td>0.983010</td>\n",
       "    </tr>\n",
       "    <tr>\n",
       "      <th>25</th>\n",
       "      <td>cat_pipe__occupation_ Protective-serv</td>\n",
       "      <td>0.001965</td>\n",
       "      <td>0.001965</td>\n",
       "      <td>0.984976</td>\n",
       "    </tr>\n",
       "    <tr>\n",
       "      <th>19</th>\n",
       "      <td>cat_pipe__occupation_ Machine-op-inspct</td>\n",
       "      <td>0.001892</td>\n",
       "      <td>0.001892</td>\n",
       "      <td>0.986868</td>\n",
       "    </tr>\n",
       "    <tr>\n",
       "      <th>22</th>\n",
       "      <td>cat_pipe__occupation_ Handlers-cleaners</td>\n",
       "      <td>0.001884</td>\n",
       "      <td>0.001884</td>\n",
       "      <td>0.988751</td>\n",
       "    </tr>\n",
       "    <tr>\n",
       "      <th>33</th>\n",
       "      <td>cat_pipe__race_ Asian-Pac-Islander</td>\n",
       "      <td>0.001874</td>\n",
       "      <td>0.001874</td>\n",
       "      <td>0.990625</td>\n",
       "    </tr>\n",
       "    <tr>\n",
       "      <th>32</th>\n",
       "      <td>cat_pipe__race_ Black</td>\n",
       "      <td>0.001791</td>\n",
       "      <td>0.001791</td>\n",
       "      <td>0.992416</td>\n",
       "    </tr>\n",
       "    <tr>\n",
       "      <th>38</th>\n",
       "      <td>cat_pipe__native.country_ ?</td>\n",
       "      <td>0.001292</td>\n",
       "      <td>0.001292</td>\n",
       "      <td>0.993708</td>\n",
       "    </tr>\n",
       "    <tr>\n",
       "      <th>29</th>\n",
       "      <td>cat_pipe__relationship_ Unmarried</td>\n",
       "      <td>0.001006</td>\n",
       "      <td>0.001006</td>\n",
       "      <td>0.994714</td>\n",
       "    </tr>\n",
       "    <tr>\n",
       "      <th>11</th>\n",
       "      <td>cat_pipe__marital.status_ Widowed</td>\n",
       "      <td>0.000999</td>\n",
       "      <td>0.000999</td>\n",
       "      <td>0.995712</td>\n",
       "    </tr>\n",
       "    <tr>\n",
       "      <th>37</th>\n",
       "      <td>cat_pipe__native.country_ Mexico</td>\n",
       "      <td>0.000938</td>\n",
       "      <td>0.000938</td>\n",
       "      <td>0.996650</td>\n",
       "    </tr>\n",
       "    <tr>\n",
       "      <th>10</th>\n",
       "      <td>cat_pipe__marital.status_ Separated</td>\n",
       "      <td>0.000715</td>\n",
       "      <td>0.000715</td>\n",
       "      <td>0.997366</td>\n",
       "    </tr>\n",
       "    <tr>\n",
       "      <th>34</th>\n",
       "      <td>cat_pipe__race_ Amer-Indian-Eskimo</td>\n",
       "      <td>0.000710</td>\n",
       "      <td>0.000710</td>\n",
       "      <td>0.998075</td>\n",
       "    </tr>\n",
       "    <tr>\n",
       "      <th>20</th>\n",
       "      <td>cat_pipe__occupation_ ?</td>\n",
       "      <td>0.000685</td>\n",
       "      <td>0.000685</td>\n",
       "      <td>0.998760</td>\n",
       "    </tr>\n",
       "    <tr>\n",
       "      <th>12</th>\n",
       "      <td>cat_pipe__marital.status_ Married-spouse-absent</td>\n",
       "      <td>0.000622</td>\n",
       "      <td>0.000622</td>\n",
       "      <td>0.999382</td>\n",
       "    </tr>\n",
       "    <tr>\n",
       "      <th>3</th>\n",
       "      <td>cat_pipe__workclass_ ?</td>\n",
       "      <td>0.000618</td>\n",
       "      <td>0.000618</td>\n",
       "      <td>1.000000</td>\n",
       "    </tr>\n",
       "  </tbody>\n",
       "</table>\n",
       "</div>"
      ],
      "text/plain": [
       "                                           features  importance  \\\n",
       "7      cat_pipe__marital.status_ Married-civ-spouse    0.282486   \n",
       "41                          num_pipe__education.num    0.146379   \n",
       "42                           num_pipe__capital.gain    0.121051   \n",
       "39                                    num_pipe__age    0.086145   \n",
       "26                  cat_pipe__relationship_ Husband    0.081790   \n",
       "44                         num_pipe__hours.per.week    0.054198   \n",
       "40                                 num_pipe__fnlwgt    0.043663   \n",
       "8           cat_pipe__marital.status_ Never-married    0.034743   \n",
       "43                           num_pipe__capital.loss    0.031051   \n",
       "30                     cat_pipe__relationship_ Wife    0.021649   \n",
       "15            cat_pipe__occupation_ Exec-managerial    0.011686   \n",
       "13             cat_pipe__occupation_ Prof-specialty    0.008137   \n",
       "18              cat_pipe__occupation_ Other-service    0.005683   \n",
       "35                              cat_pipe__sex_ Male    0.005587   \n",
       "1             cat_pipe__workclass_ Self-emp-not-inc    0.005284   \n",
       "23            cat_pipe__occupation_ Farming-fishing    0.003883   \n",
       "17                      cat_pipe__occupation_ Sales    0.003572   \n",
       "0                      cat_pipe__workclass_ Private    0.003184   \n",
       "27            cat_pipe__relationship_ Not-in-family    0.002927   \n",
       "5                 cat_pipe__workclass_ Self-emp-inc    0.002799   \n",
       "21           cat_pipe__occupation_ Transport-moving    0.002692   \n",
       "36          cat_pipe__native.country_ United-States    0.002674   \n",
       "6                  cat_pipe__workclass_ Federal-gov    0.002657   \n",
       "24               cat_pipe__occupation_ Tech-support    0.002562   \n",
       "2                    cat_pipe__workclass_ Local-gov    0.002522   \n",
       "14               cat_pipe__occupation_ Craft-repair    0.002519   \n",
       "16               cat_pipe__occupation_ Adm-clerical    0.002512   \n",
       "31                            cat_pipe__race_ White    0.002411   \n",
       "9                cat_pipe__marital.status_ Divorced    0.002303   \n",
       "28                cat_pipe__relationship_ Own-child    0.002286   \n",
       "4                    cat_pipe__workclass_ State-gov    0.001975   \n",
       "25            cat_pipe__occupation_ Protective-serv    0.001965   \n",
       "19          cat_pipe__occupation_ Machine-op-inspct    0.001892   \n",
       "22          cat_pipe__occupation_ Handlers-cleaners    0.001884   \n",
       "33               cat_pipe__race_ Asian-Pac-Islander    0.001874   \n",
       "32                            cat_pipe__race_ Black    0.001791   \n",
       "38                      cat_pipe__native.country_ ?    0.001292   \n",
       "29                cat_pipe__relationship_ Unmarried    0.001006   \n",
       "11                cat_pipe__marital.status_ Widowed    0.000999   \n",
       "37                 cat_pipe__native.country_ Mexico    0.000938   \n",
       "10              cat_pipe__marital.status_ Separated    0.000715   \n",
       "34               cat_pipe__race_ Amer-Indian-Eskimo    0.000710   \n",
       "20                          cat_pipe__occupation_ ?    0.000685   \n",
       "12  cat_pipe__marital.status_ Married-spouse-absent    0.000622   \n",
       "3                            cat_pipe__workclass_ ?    0.000618   \n",
       "\n",
       "    normalised_imp   cum_imp  \n",
       "7         0.282486  0.282486  \n",
       "41        0.146379  0.428865  \n",
       "42        0.121051  0.549916  \n",
       "39        0.086145  0.636061  \n",
       "26        0.081790  0.717851  \n",
       "44        0.054198  0.772049  \n",
       "40        0.043663  0.815712  \n",
       "8         0.034743  0.850455  \n",
       "43        0.031051  0.881506  \n",
       "30        0.021649  0.903155  \n",
       "15        0.011686  0.914842  \n",
       "13        0.008137  0.922979  \n",
       "18        0.005683  0.928662  \n",
       "35        0.005587  0.934249  \n",
       "1         0.005284  0.939533  \n",
       "23        0.003883  0.943416  \n",
       "17        0.003572  0.946988  \n",
       "0         0.003184  0.950172  \n",
       "27        0.002927  0.953099  \n",
       "5         0.002799  0.955898  \n",
       "21        0.002692  0.958590  \n",
       "36        0.002674  0.961263  \n",
       "6         0.002657  0.963920  \n",
       "24        0.002562  0.966483  \n",
       "2         0.002522  0.969005  \n",
       "14        0.002519  0.971523  \n",
       "16        0.002512  0.974036  \n",
       "31        0.002411  0.976447  \n",
       "9         0.002303  0.978750  \n",
       "28        0.002286  0.981036  \n",
       "4         0.001975  0.983010  \n",
       "25        0.001965  0.984976  \n",
       "19        0.001892  0.986868  \n",
       "22        0.001884  0.988751  \n",
       "33        0.001874  0.990625  \n",
       "32        0.001791  0.992416  \n",
       "38        0.001292  0.993708  \n",
       "29        0.001006  0.994714  \n",
       "11        0.000999  0.995712  \n",
       "37        0.000938  0.996650  \n",
       "10        0.000715  0.997366  \n",
       "34        0.000710  0.998075  \n",
       "20        0.000685  0.998760  \n",
       "12        0.000622  0.999382  \n",
       "3         0.000618  1.000000  "
      ]
     },
     "execution_count": 46,
     "metadata": {},
     "output_type": "execute_result"
    }
   ],
   "source": [
    "feat_imp_df"
   ]
  },
  {
   "cell_type": "markdown",
   "metadata": {},
   "source": [
    "## Partial Dependence Plot\n",
    "\n"
   ]
  },
  {
   "cell_type": "code",
   "execution_count": 47,
   "metadata": {},
   "outputs": [
    {
     "data": {
      "text/plain": [
       "Index(['cat_pipe__workclass_ Private', 'cat_pipe__workclass_ Self-emp-not-inc',\n",
       "       'cat_pipe__workclass_ Local-gov', 'cat_pipe__workclass_ ?',\n",
       "       'cat_pipe__workclass_ State-gov', 'cat_pipe__workclass_ Self-emp-inc',\n",
       "       'cat_pipe__workclass_ Federal-gov',\n",
       "       'cat_pipe__marital.status_ Married-civ-spouse',\n",
       "       'cat_pipe__marital.status_ Never-married',\n",
       "       'cat_pipe__marital.status_ Divorced',\n",
       "       'cat_pipe__marital.status_ Separated',\n",
       "       'cat_pipe__marital.status_ Widowed',\n",
       "       'cat_pipe__marital.status_ Married-spouse-absent',\n",
       "       'cat_pipe__occupation_ Prof-specialty',\n",
       "       'cat_pipe__occupation_ Craft-repair',\n",
       "       'cat_pipe__occupation_ Exec-managerial',\n",
       "       'cat_pipe__occupation_ Adm-clerical', 'cat_pipe__occupation_ Sales',\n",
       "       'cat_pipe__occupation_ Other-service',\n",
       "       'cat_pipe__occupation_ Machine-op-inspct', 'cat_pipe__occupation_ ?',\n",
       "       'cat_pipe__occupation_ Transport-moving',\n",
       "       'cat_pipe__occupation_ Handlers-cleaners',\n",
       "       'cat_pipe__occupation_ Farming-fishing',\n",
       "       'cat_pipe__occupation_ Tech-support',\n",
       "       'cat_pipe__occupation_ Protective-serv',\n",
       "       'cat_pipe__relationship_ Husband',\n",
       "       'cat_pipe__relationship_ Not-in-family',\n",
       "       'cat_pipe__relationship_ Own-child',\n",
       "       'cat_pipe__relationship_ Unmarried', 'cat_pipe__relationship_ Wife',\n",
       "       'cat_pipe__race_ White', 'cat_pipe__race_ Black',\n",
       "       'cat_pipe__race_ Asian-Pac-Islander',\n",
       "       'cat_pipe__race_ Amer-Indian-Eskimo', 'cat_pipe__sex_ Male',\n",
       "       'cat_pipe__native.country_ United-States',\n",
       "       'cat_pipe__native.country_ Mexico', 'cat_pipe__native.country_ ?',\n",
       "       'num_pipe__age', 'num_pipe__fnlwgt', 'num_pipe__education.num',\n",
       "       'num_pipe__capital.gain', 'num_pipe__capital.loss',\n",
       "       'num_pipe__hours.per.week'],\n",
       "      dtype='object')"
      ]
     },
     "execution_count": 47,
     "metadata": {},
     "output_type": "execute_result"
    }
   ],
   "source": [
    "x_train.columns"
   ]
  },
  {
   "cell_type": "code",
   "execution_count": 48,
   "metadata": {},
   "outputs": [],
   "source": [
    "var_name='num_pipe__education.num'\n",
    "\n",
    "preds=rf.predict_proba(x_train)[:,1]\n",
    "# part_dep_data"
   ]
  },
  {
   "cell_type": "code",
   "execution_count": 49,
   "metadata": {},
   "outputs": [],
   "source": [
    "var_data=pd.DataFrame({'var':x_train[var_name],'response':preds})"
   ]
  },
  {
   "cell_type": "code",
   "execution_count": 50,
   "metadata": {},
   "outputs": [],
   "source": [
    "# var_data"
   ]
  },
  {
   "cell_type": "code",
   "execution_count": 51,
   "metadata": {},
   "outputs": [],
   "source": [
    "%matplotlib inline"
   ]
  },
  {
   "cell_type": "code",
   "execution_count": 52,
   "metadata": {},
   "outputs": [
    {
     "data": {
      "text/plain": [
       "<seaborn.axisgrid.FacetGrid at 0x1ee74dae988>"
      ]
     },
     "execution_count": 52,
     "metadata": {},
     "output_type": "execute_result"
    },
    {
     "data": {
      "image/png": "[encoded data removed]",
      "text/plain": [
       "<Figure size 360x360 with 1 Axes>"
      ]
     },
     "metadata": {
      "needs_background": "light"
     },
     "output_type": "display_data"
    }
   ],
   "source": [
    "import seaborn as sns\n",
    "\n",
    "sns.lmplot(x='var',y='response',data=var_data,fit_reg=False)"
   ]
  },
  {
   "cell_type": "code",
   "execution_count": 53,
   "metadata": {},
   "outputs": [],
   "source": [
    "import statsmodels.api as sm\n",
    "smooth_data=sm.nonparametric.lowess(var_data['response'],var_data['var'])\n",
    "\n",
    "# smooth_data"
   ]
  },
  {
   "cell_type": "code",
   "execution_count": 54,
   "metadata": {},
   "outputs": [
    {
     "data": {
      "text/plain": [
       "<seaborn.axisgrid.FacetGrid at 0x1ee7d99f288>"
      ]
     },
     "execution_count": 54,
     "metadata": {},
     "output_type": "execute_result"
    },
    {
     "data": {
      "image/png": "[encoded data removed]",
      "text/plain": [
       "<Figure size 360x360 with 1 Axes>"
      ]
     },
     "metadata": {
      "needs_background": "light"
     },
     "output_type": "display_data"
    }
   ],
   "source": [
    "df=pd.DataFrame({'response':smooth_data[:,1],var_name:smooth_data[:,0]})\n",
    "\n",
    "sns.lmplot(x=var_name,y='response',data=df,fit_reg=False)"
   ]
  },
  {
   "cell_type": "markdown",
   "metadata": {},
   "source": [
    "## ExtraTrees\n",
    "\n"
   ]
  },
  {
   "cell_type": "code",
   "execution_count": 55,
   "metadata": {},
   "outputs": [],
   "source": [
    "from sklearn.ensemble import ExtraTreesClassifier"
   ]
  },
  {
   "cell_type": "code",
   "execution_count": 56,
   "metadata": {},
   "outputs": [],
   "source": [
    "param_dist = {\"n_estimators\":[100,200,300,500,700,1000],\n",
    "              \"max_features\": [5,10,20,25,30,35],\n",
    "              \"bootstrap\": [True, False],\n",
    "              'class_weight':[None,'balanced'], \n",
    "                'criterion':['entropy','gini'],\n",
    "                'max_depth':[None,5,10,15,20,30,50,70],\n",
    "                'min_samples_leaf':[1,2,5,10,15,20], \n",
    "                'min_samples_split':[2,5,10,15,20]\n",
    "                  }"
   ]
  },
  {
   "cell_type": "code",
   "execution_count": 57,
   "metadata": {},
   "outputs": [],
   "source": [
    "clf=ExtraTreesClassifier()"
   ]
  },
  {
   "cell_type": "code",
   "execution_count": 58,
   "metadata": {},
   "outputs": [
    {
     "name": "stdout",
     "output_type": "stream",
     "text": [
      "Fitting 10 folds for each of 10 candidates, totalling 100 fits\n"
     ]
    },
    {
     "name": "stderr",
     "output_type": "stream",
     "text": [
      "[Parallel(n_jobs=-1)]: Using backend LokyBackend with 4 concurrent workers.\n",
      "[Parallel(n_jobs=-1)]: Done   1 tasks      | elapsed:   38.5s\n",
      "[Parallel(n_jobs=-1)]: Done   2 tasks      | elapsed:   38.5s\n",
      "[Parallel(n_jobs=-1)]: Done   3 tasks      | elapsed:   38.7s\n",
      "[Parallel(n_jobs=-1)]: Done   4 tasks      | elapsed:   39.0s\n",
      "[Parallel(n_jobs=-1)]: Done   5 tasks      | elapsed:  1.2min\n",
      "[Parallel(n_jobs=-1)]: Done   6 tasks      | elapsed:  1.2min\n",
      "[Parallel(n_jobs=-1)]: Done   7 tasks      | elapsed:  1.2min\n",
      "[Parallel(n_jobs=-1)]: Done   8 tasks      | elapsed:  1.2min\n",
      "[Parallel(n_jobs=-1)]: Done   9 tasks      | elapsed:  1.4min\n",
      "[Parallel(n_jobs=-1)]: Done  10 tasks      | elapsed:  1.4min\n",
      "[Parallel(n_jobs=-1)]: Done  11 tasks      | elapsed:  1.6min\n",
      "[Parallel(n_jobs=-1)]: Done  12 tasks      | elapsed:  1.6min\n",
      "[Parallel(n_jobs=-1)]: Done  13 tasks      | elapsed:  1.7min\n",
      "[Parallel(n_jobs=-1)]: Done  14 tasks      | elapsed:  1.7min\n",
      "[Parallel(n_jobs=-1)]: Done  15 tasks      | elapsed:  1.8min\n",
      "[Parallel(n_jobs=-1)]: Done  16 tasks      | elapsed:  1.8min\n",
      "[Parallel(n_jobs=-1)]: Done  17 tasks      | elapsed:  1.9min\n",
      "[Parallel(n_jobs=-1)]: Done  18 tasks      | elapsed:  1.9min\n",
      "[Parallel(n_jobs=-1)]: Done  19 tasks      | elapsed:  2.0min\n",
      "[Parallel(n_jobs=-1)]: Done  20 tasks      | elapsed:  2.0min\n",
      "[Parallel(n_jobs=-1)]: Done  21 tasks      | elapsed:  3.9min\n",
      "[Parallel(n_jobs=-1)]: Done  22 tasks      | elapsed:  3.9min\n",
      "[Parallel(n_jobs=-1)]: Done  23 tasks      | elapsed:  4.0min\n",
      "[Parallel(n_jobs=-1)]: Done  24 tasks      | elapsed:  4.0min\n",
      "[Parallel(n_jobs=-1)]: Done  25 tasks      | elapsed:  5.9min\n",
      "[Parallel(n_jobs=-1)]: Done  26 tasks      | elapsed:  5.9min\n",
      "[Parallel(n_jobs=-1)]: Done  27 tasks      | elapsed:  6.0min\n",
      "[Parallel(n_jobs=-1)]: Done  28 tasks      | elapsed:  6.0min\n",
      "[Parallel(n_jobs=-1)]: Done  29 tasks      | elapsed:  6.2min\n",
      "[Parallel(n_jobs=-1)]: Done  30 tasks      | elapsed:  6.2min\n",
      "[Parallel(n_jobs=-1)]: Done  31 tasks      | elapsed:  6.4min\n",
      "[Parallel(n_jobs=-1)]: Done  32 tasks      | elapsed:  6.4min\n",
      "[Parallel(n_jobs=-1)]: Done  33 tasks      | elapsed:  6.7min\n",
      "[Parallel(n_jobs=-1)]: Done  34 tasks      | elapsed:  6.7min\n",
      "[Parallel(n_jobs=-1)]: Done  35 tasks      | elapsed:  7.0min\n",
      "[Parallel(n_jobs=-1)]: Done  36 tasks      | elapsed:  7.0min\n",
      "[Parallel(n_jobs=-1)]: Done  37 tasks      | elapsed:  7.2min\n",
      "[Parallel(n_jobs=-1)]: Done  38 tasks      | elapsed:  7.2min\n",
      "[Parallel(n_jobs=-1)]: Done  39 tasks      | elapsed:  7.7min\n",
      "[Parallel(n_jobs=-1)]: Done  40 tasks      | elapsed:  7.7min\n",
      "[Parallel(n_jobs=-1)]: Done  41 tasks      | elapsed:  8.5min\n",
      "[Parallel(n_jobs=-1)]: Done  42 tasks      | elapsed:  8.5min\n",
      "[Parallel(n_jobs=-1)]: Done  43 tasks      | elapsed:  8.9min\n",
      "[Parallel(n_jobs=-1)]: Done  44 tasks      | elapsed:  8.9min\n",
      "[Parallel(n_jobs=-1)]: Done  45 tasks      | elapsed:  9.8min\n",
      "[Parallel(n_jobs=-1)]: Done  46 tasks      | elapsed:  9.8min\n",
      "[Parallel(n_jobs=-1)]: Done  47 tasks      | elapsed: 10.3min\n",
      "[Parallel(n_jobs=-1)]: Done  48 tasks      | elapsed: 10.3min\n",
      "[Parallel(n_jobs=-1)]: Done  49 tasks      | elapsed: 11.0min\n",
      "[Parallel(n_jobs=-1)]: Done  50 tasks      | elapsed: 11.0min\n",
      "[Parallel(n_jobs=-1)]: Done  51 tasks      | elapsed: 12.0min\n",
      "[Parallel(n_jobs=-1)]: Done  52 tasks      | elapsed: 12.0min\n",
      "[Parallel(n_jobs=-1)]: Done  53 tasks      | elapsed: 12.7min\n",
      "[Parallel(n_jobs=-1)]: Done  54 tasks      | elapsed: 12.7min\n",
      "[Parallel(n_jobs=-1)]: Done  55 tasks      | elapsed: 13.6min\n",
      "[Parallel(n_jobs=-1)]: Done  56 tasks      | elapsed: 13.6min\n",
      "[Parallel(n_jobs=-1)]: Done  57 tasks      | elapsed: 14.3min\n",
      "[Parallel(n_jobs=-1)]: Done  58 tasks      | elapsed: 14.3min\n",
      "[Parallel(n_jobs=-1)]: Done  59 tasks      | elapsed: 15.1min\n",
      "[Parallel(n_jobs=-1)]: Done  60 tasks      | elapsed: 15.1min\n",
      "[Parallel(n_jobs=-1)]: Done  61 tasks      | elapsed: 15.2min\n",
      "[Parallel(n_jobs=-1)]: Done  62 tasks      | elapsed: 15.2min\n",
      "[Parallel(n_jobs=-1)]: Done  63 tasks      | elapsed: 16.0min\n",
      "[Parallel(n_jobs=-1)]: Done  64 tasks      | elapsed: 16.0min\n",
      "[Parallel(n_jobs=-1)]: Done  65 tasks      | elapsed: 16.0min\n",
      "[Parallel(n_jobs=-1)]: Done  66 tasks      | elapsed: 16.0min\n",
      "[Parallel(n_jobs=-1)]: Done  67 tasks      | elapsed: 16.8min\n",
      "[Parallel(n_jobs=-1)]: Done  68 tasks      | elapsed: 16.8min\n",
      "[Parallel(n_jobs=-1)]: Done  69 tasks      | elapsed: 16.8min\n",
      "[Parallel(n_jobs=-1)]: Done  70 tasks      | elapsed: 16.8min\n",
      "[Parallel(n_jobs=-1)]: Done  71 tasks      | elapsed: 17.2min\n",
      "[Parallel(n_jobs=-1)]: Done  72 tasks      | elapsed: 17.2min\n",
      "[Parallel(n_jobs=-1)]: Done  73 tasks      | elapsed: 17.2min\n",
      "[Parallel(n_jobs=-1)]: Done  74 tasks      | elapsed: 17.2min\n",
      "[Parallel(n_jobs=-1)]: Done  75 tasks      | elapsed: 17.6min\n",
      "[Parallel(n_jobs=-1)]: Done  76 tasks      | elapsed: 17.6min\n",
      "[Parallel(n_jobs=-1)]: Done  77 tasks      | elapsed: 17.6min\n",
      "[Parallel(n_jobs=-1)]: Done  78 tasks      | elapsed: 17.7min\n",
      "[Parallel(n_jobs=-1)]: Done  79 tasks      | elapsed: 17.9min\n",
      "[Parallel(n_jobs=-1)]: Done  80 tasks      | elapsed: 17.9min\n",
      "[Parallel(n_jobs=-1)]: Done  81 tasks      | elapsed: 18.0min\n",
      "[Parallel(n_jobs=-1)]: Done  82 tasks      | elapsed: 18.0min\n",
      "[Parallel(n_jobs=-1)]: Done  83 tasks      | elapsed: 18.2min\n",
      "[Parallel(n_jobs=-1)]: Done  84 tasks      | elapsed: 18.2min\n",
      "[Parallel(n_jobs=-1)]: Done  85 tasks      | elapsed: 18.3min\n",
      "[Parallel(n_jobs=-1)]: Done  86 tasks      | elapsed: 18.3min\n",
      "[Parallel(n_jobs=-1)]: Done  87 tasks      | elapsed: 18.5min\n",
      "[Parallel(n_jobs=-1)]: Done  88 tasks      | elapsed: 18.5min\n",
      "[Parallel(n_jobs=-1)]: Done  89 tasks      | elapsed: 18.5min\n",
      "[Parallel(n_jobs=-1)]: Done  90 tasks      | elapsed: 18.5min\n",
      "[Parallel(n_jobs=-1)]: Done  91 tasks      | elapsed: 19.6min\n",
      "[Parallel(n_jobs=-1)]: Done  92 tasks      | elapsed: 19.6min\n",
      "[Parallel(n_jobs=-1)]: Done  93 tasks      | elapsed: 19.7min\n",
      "[Parallel(n_jobs=-1)]: Done 100 out of 100 | elapsed: 21.5min finished\n"
     ]
    },
    {
     "data": {
      "text/plain": [
       "RandomizedSearchCV(cv=10, error_score=nan,\n",
       "                   estimator=ExtraTreesClassifier(bootstrap=False,\n",
       "                                                  ccp_alpha=0.0,\n",
       "                                                  class_weight=None,\n",
       "                                                  criterion='gini',\n",
       "                                                  max_depth=None,\n",
       "                                                  max_features='auto',\n",
       "                                                  max_leaf_nodes=None,\n",
       "                                                  max_samples=None,\n",
       "                                                  min_impurity_decrease=0.0,\n",
       "                                                  min_impurity_split=None,\n",
       "                                                  min_samples_leaf=1,\n",
       "                                                  min_samples_split=2,\n",
       "                                                  min_weight_fraction_leaf=0.0,\n",
       "                                                  n_estimators=100, n_jobs...\n",
       "                                        'class_weight': [None, 'balanced'],\n",
       "                                        'criterion': ['entropy', 'gini'],\n",
       "                                        'max_depth': [None, 5, 10, 15, 20, 30,\n",
       "                                                      50, 70],\n",
       "                                        'max_features': [5, 10, 20, 25, 30, 35],\n",
       "                                        'min_samples_leaf': [1, 2, 5, 10, 15,\n",
       "                                                             20],\n",
       "                                        'min_samples_split': [2, 5, 10, 15, 20],\n",
       "                                        'n_estimators': [100, 200, 300, 500,\n",
       "                                                         700, 1000]},\n",
       "                   pre_dispatch='2*n_jobs', random_state=None, refit=True,\n",
       "                   return_train_score=False, scoring='roc_auc', verbose=20)"
      ]
     },
     "execution_count": 58,
     "metadata": {},
     "output_type": "execute_result"
    }
   ],
   "source": [
    "n_iter_search = 10\n",
    "\n",
    "random_search = RandomizedSearchCV(clf, param_distributions=param_dist,\n",
    "                                   n_iter=n_iter_search,\n",
    "                                   scoring='roc_auc',\n",
    "                                   cv=10,\n",
    "                                  n_jobs=-1,verbose=20)\n",
    "random_search.fit(x_train, y_train)"
   ]
  },
  {
   "cell_type": "code",
   "execution_count": 59,
   "metadata": {},
   "outputs": [
    {
     "name": "stdout",
     "output_type": "stream",
     "text": [
      "Model with rank: 1\n",
      "Mean validation score: 0.91295 (std: 0.00491)\n",
      "Parameters: {'n_estimators': 500, 'min_samples_split': 15, 'min_samples_leaf': 5, 'max_features': 30, 'max_depth': 20, 'criterion': 'entropy', 'class_weight': 'balanced', 'bootstrap': True}\n",
      "\n",
      "Model with rank: 2\n",
      "Mean validation score: 0.91218 (std: 0.00504)\n",
      "Parameters: {'n_estimators': 500, 'min_samples_split': 15, 'min_samples_leaf': 2, 'max_features': 35, 'max_depth': 70, 'criterion': 'gini', 'class_weight': 'balanced', 'bootstrap': True}\n",
      "\n",
      "Model with rank: 3\n",
      "Mean validation score: 0.91116 (std: 0.00482)\n",
      "Parameters: {'n_estimators': 700, 'min_samples_split': 20, 'min_samples_leaf': 15, 'max_features': 30, 'max_depth': None, 'criterion': 'gini', 'class_weight': None, 'bootstrap': True}\n",
      "\n",
      "Model with rank: 4\n",
      "Mean validation score: 0.91040 (std: 0.00486)\n",
      "Parameters: {'n_estimators': 200, 'min_samples_split': 5, 'min_samples_leaf': 15, 'max_features': 30, 'max_depth': 20, 'criterion': 'entropy', 'class_weight': None, 'bootstrap': True}\n",
      "\n",
      "Model with rank: 5\n",
      "Mean validation score: 0.90891 (std: 0.00459)\n",
      "Parameters: {'n_estimators': 200, 'min_samples_split': 15, 'min_samples_leaf': 15, 'max_features': 20, 'max_depth': 15, 'criterion': 'gini', 'class_weight': None, 'bootstrap': False}\n",
      "\n"
     ]
    }
   ],
   "source": [
    "report(random_search.cv_results_,5)"
   ]
  }
 ],
 "metadata": {
  "anaconda-cloud": {},
  "kernelspec": {
   "display_name": "Python 3",
   "language": "python",
   "name": "python3"
  },
  "language_info": {
   "codemirror_mode": {
    "name": "ipython",
    "version": 3
   },
   "file_extension": ".py",
   "mimetype": "text/x-python",
   "name": "python",
   "nbconvert_exporter": "python",
   "pygments_lexer": "ipython3",
   "version": "3.7.6"
  }
 },
 "nbformat": 4,
 "nbformat_minor": 1
}
